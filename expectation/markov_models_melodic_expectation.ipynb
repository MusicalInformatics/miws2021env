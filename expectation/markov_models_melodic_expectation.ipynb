{
 "cells": [
  {
   "cell_type": "markdown",
   "id": "e35620ff",
   "metadata": {},
   "source": [
    "# Melodic Expectation with Markov Models\n",
    "\n",
    "In this notebook we will look at Markov Chains for modelling musical expectation.\n",
    "We have already seen a Markov Model in the class on key estimation with HMMs (Hidden Markov Models)."
   ]
  },
  {
   "cell_type": "code",
   "execution_count": 2,
   "id": "f30ea261",
   "metadata": {},
   "outputs": [],
   "source": [
    "import os\n",
    "import numpy as np\n",
    "import partitura"
   ]
  },
  {
   "cell_type": "code",
   "execution_count": 3,
   "id": "ea836bc2",
   "metadata": {},
   "outputs": [],
   "source": [
    "from rnn import load_data\n",
    "\n",
    "# To filter out short melodies The minimum number of notes that a sequence should have\n",
    "\n",
    "min_seq_len = 10\n",
    "sequences = load_data(min_seq_len)"
   ]
  },
  {
   "cell_type": "markdown",
   "id": "a598ae3b",
   "metadata": {},
   "source": [
    "## Tasks 1; data loading & preparing:\n",
    "1. check out the content of the variable \"sequences\", if unclear have a look at the loading function.\n",
    "2. which musical texture do these sequences exhibit? (https://en.wikipedia.org/wiki/Texture_(music))\n",
    "3. write a function to derive sequences of pitches from this data.\n",
    "4. write a function to derive sequences of durations from this data. Modify this to compute inter onset intervals (IOIs; the time between two consecutive onsets). Can you encode rests as well by comparing duration with IOI? "
   ]
  },
  {
   "cell_type": "code",
   "execution_count": 4,
   "id": "f2a17d83",
   "metadata": {
    "scrolled": false
   },
   "outputs": [],
   "source": [
    "s = list()\n",
    "for l in sequences:\n",
    "    s+=list(l[\"pitch\"]%12)"
   ]
  },
  {
   "cell_type": "markdown",
   "id": "aa7a8b9b",
   "metadata": {},
   "source": [
    "## Tasks 2; data exploration:\n",
    "\n",
    "1. compute and draw a histogram of pitches. Modify this to show pitch classes!\n",
    "2. compute and draw a histogram of IOIs. The input MIDI files are deadpan, i.e. the IOIs in seconds correspond to the notated duration exactly. Look through the IOIs and make an educated guess for some smallest float time unit that could serve as integer smallest time division. Encode the IOIs as multiples of this smallest integer. Which multiples make musical sense?"
   ]
  },
  {
   "cell_type": "code",
   "execution_count": 5,
   "id": "8a1ede8d",
   "metadata": {},
   "outputs": [
    {
     "name": "stdout",
     "output_type": "stream",
     "text": [
      "50985\n"
     ]
    },
    {
     "data": {
      "text/plain": [
       "(array([4108., 4335., 4232., 4357., 4314., 4123., 4378., 4177., 4404.,\n",
       "        4047., 4184., 4326.]),\n",
       " array([ 0.,  1.,  2.,  3.,  4.,  5.,  6.,  7.,  8.,  9., 10., 11., 12.]),\n",
       " <BarContainer object of 12 artists>)"
      ]
     },
     "execution_count": 5,
     "metadata": {},
     "output_type": "execute_result"
    },
    {
     "data": {
      "image/png": "[encoded data removed]",
      "text/plain": [
       "<Figure size 432x288 with 1 Axes>"
      ]
     },
     "metadata": {
      "needs_background": "light"
     },
     "output_type": "display_data"
    }
   ],
   "source": [
    "import matplotlib.pyplot as plt\n",
    "%matplotlib inline\n",
    "print(len(s))\n",
    "plt.hist(s, bins=12, range=(0,12))"
   ]
  },
  {
   "cell_type": "markdown",
   "id": "a674b16f",
   "metadata": {},
   "source": [
    "## Tasks 3; A Markov Chain:\n",
    "\n",
    "1. choose a data type to model: pitch, pitch class, IOIs, or durations (including or without an encoding for rests). Concatenate all the sequences into one long data sequence.\n",
    "\n",
    "2. You have now a sequence **X** of symbols from an alphabet **A** (set of possible symbols of your chosen data type):\n",
    "\n",
    "$$ \\mathbf{X} = \\{\\mathbf{x_0}, \\dots, \\mathbf{x_n} \\mid \\mathbf{x}_{i} \\in  \\mathbf{A} \\forall i \\in 0, \\dots, n \\}$$\n",
    "\n",
    "Compute the empirical conditional probability of seeing any symbol after just having seen any other:\n",
    "\n",
    "$$ \\mathbb{P}(\\mathbf{x_i}\\mid \\mathbf{x_{i-1}}) $$\n",
    "\n",
    "What is the dimensionality of this probability  given $\\lvert A \\rvert = d $? Do you recall what this probability was called in the context of HMMs?\n",
    "\n",
    "3. compute the entropy of the data (only your chosen type). Recall https://en.wikipedia.org/wiki/Entropy_(information_theory)\n"
   ]
  },
  {
   "cell_type": "code",
   "execution_count": 6,
   "id": "6cf5368b",
   "metadata": {},
   "outputs": [
    {
     "name": "stdout",
     "output_type": "stream",
     "text": [
      "[4108. 4335. 4232. 4357. 4314. 4123. 4378. 4177. 4404. 4047. 4184. 4325.]\n",
      "[1. 1. 1. 1. 1. 1. 1. 1. 1. 1. 1. 1.]\n"
     ]
    },
    {
     "data": {
      "image/png": "[encoded data removed]",
      "text/plain": [
       "<Figure size 432x288 with 2 Axes>"
      ]
     },
     "metadata": {
      "needs_background": "light"
     },
     "output_type": "display_data"
    }
   ],
   "source": [
    "probs = np.zeros((12,12))\n",
    "for (p1, p2) in zip(s[:-1],s[1:]):\n",
    "    probs[p1, p2] += 1\n",
    "\n",
    "probsum = np.sum(probs, axis = 1)\n",
    "print(probsum)\n",
    "normalized_distribution = (probs.T/probsum).T\n",
    "plt.imshow(normalized_distribution)\n",
    "plt.colorbar()\n",
    "print(np.sum(normalized_distribution, axis = 1))"
   ]
  },
  {
   "cell_type": "markdown",
   "id": "3d44c602",
   "metadata": {},
   "source": [
    "## Tasks 4; Markov Chain Generation:\n",
    "\n",
    "1. By computing the probability $ \\mathbb{P}(\\mathbf{x_i}\\mid \\mathbf{x_{i-1}}) $ in task 3 you have fully specified a discrete-time finite state space Markov Chain model (https://en.wikipedia.org/wiki/Discrete-time_Markov_chain)! Given an initial symbol \"s_0\", you can generate the subsequent symbols by sampling from the conditional probability distribution\n",
    "\n",
    "$$ \\mathbb{P}(\\mathbf{x_i}\\mid \\mathbf{x_{i-1}} = \\mathbf{s_{0}}) $$\n",
    "\n",
    "Write a function that samples from a finite state space given an input probability distribution.\n",
    "\n",
    "2. Use the previously defined function and the Markov Chain to write a sequence generator based on an initial symbol.\n",
    "3. Start several \"walkers\", i.e. sampled/generated sequences. Compute the entropy of this generated data and compare it to the entropy in task 3.\n"
   ]
  },
  {
   "cell_type": "code",
   "execution_count": 7,
   "id": "150bcf8e",
   "metadata": {},
   "outputs": [
    {
     "name": "stdout",
     "output_type": "stream",
     "text": [
      "[0, 11, 10, 9, 2, 11, 10, 1, 3, 1, 11, 2, 7, 8, 7, 8, 6, 4, 6, 11, 10, 8, 0, 4, 6, 1, 11, 0, 11, 1, 11, 1, 9, 7, 3, 5, 3, 0, 2, 11, 1, 3, 8, 6, 2, 4, 6, 11, 11, 9, 9, 3, 4, 2, 1, 3, 4, 8, 10, 7, 0, 5, 3, 5, 2, 0, 5, 7, 0, 9, 8, 5, 3, 1, 1, 11, 10, 8, 9, 11, 9, 8, 2, 4, 10, 0, 1, 10, 10, 11, 0, 2, 4, 3, 7, 8, 6, 5, 3, 11, 1]\n"
     ]
    }
   ],
   "source": [
    "def sample(distribution):\n",
    "    cs = distribution.cumsum()\n",
    "    samp = np.random.rand(1)\n",
    "    return list(samp < cs).index(True)\n",
    "    \n",
    "\n",
    "def generate(start = 0, length = 100):\n",
    "    melody = [start]\n",
    "    for k in range(length):\n",
    "        melody.append(sample(normalized_distribution[melody[-1],:]))\n",
    "    return melody\n",
    "\n",
    "print(generate())"
   ]
  },
  {
   "cell_type": "markdown",
   "id": "fbe6b324",
   "metadata": {},
   "source": [
    "## Tasks 5; n-gram Context Model:\n",
    "\n",
    "1. The Markov Chains used until now have only very limited memory. In fact, they only ever know the last played pitch or duration. Longer memory models can be created by using the conditional probability of any new symbol based on an n-gram context of the symbol (https://en.wikipedia.org/wiki/N-gram):\n",
    "$$ \\mathbb{P}(\\mathbf{x_i}\\mid \\mathbf{x_{i-1}}, \\dots, \\mathbf{x_{i-n}}) $$\n",
    "\n",
    "This probability will generally not look like a matrix anymore, but we can easily encode it as a dictionary. Write a function that creates a 3-gram context model from the data sequence **X**!\n",
    "\n",
    "2. The longer the context, the more data we need to get meaningful or even existing samples for all contexts (note that the number of different contexts grows exponentially with context length). What could we do to approximate the distribution for unseen contexts?"
   ]
  },
  {
   "cell_type": "code",
   "execution_count": 12,
   "id": "09d9e331",
   "metadata": {},
   "outputs": [],
   "source": [
    "from collections import defaultdict\n",
    "import copy\n",
    "\n",
    "def create_context_model(sequence, n):\n",
    "    a_priori_probability = np.array([1,1,1,1,1,1,1,1,1,1,1,1])/12\n",
    "    context_model = defaultdict(lambda: copy.copy(a_priori_probability))\n",
    "    for idx in range(len(sequence)-n):\n",
    "        local_string = \"\"\n",
    "        for p in sequence[idx:idx+n]:\n",
    "            local_string += str(p)\n",
    "        context_model[local_string][sequence[idx+n]] += 1\n",
    "    \n",
    "    for key in context_model.keys():\n",
    "        prob_dist = context_model[key]\n",
    "        context_model[key] =  prob_dist/ prob_dist.sum()     \n",
    "    \n",
    "    return context_model\n",
    "            \n",
    "cm = create_context_model(s, 5)"
   ]
  },
  {
   "cell_type": "code",
   "execution_count": 13,
   "id": "bb4a60d8",
   "metadata": {},
   "outputs": [
    {
     "name": "stdout",
     "output_type": "stream",
     "text": [
      "[0, 0, 0, 3, 6, 10, 8, 1, 11, 1, 4, 6, 7, 1, 2, 8, 5, 8, 2, 2, 5, 3, 4, 10, 11, 4, 5, 8, 6, 11, 2, 0, 3, 10, 9, 5, 8, 8, 10, 2, 7, 5, 8, 4, 8, 3, 4, 6, 0, 0, 0, 2, 8, 2, 6, 8, 10, 9, 4, 9, 10, 11, 10, 5, 7, 11, 2, 1, 2, 3, 6, 5, 9, 11, 7, 8, 0, 7, 5, 4, 0, 10, 4, 7, 5, 1, 8, 10, 3, 7, 8, 11, 4, 6, 10, 0, 11, 6, 1, 11, 11, 1, 1]\n"
     ]
    }
   ],
   "source": [
    "def generate_with_context_model(start = [0,0,0], length = 100, context_model= cm):\n",
    "    melody = start\n",
    "    for k in range(length):\n",
    "        key = \"\"\n",
    "        for p in melody[-3:]:\n",
    "            key += str(p)\n",
    "        melody.append(sample(context_model[key]))\n",
    "    return melody\n",
    "\n",
    "print(generate_with_context_model())"
   ]
  },
  {
   "cell_type": "markdown",
   "id": "3a92566c",
   "metadata": {},
   "source": [
    "## Tasks 6; multi-type Markov Chains and back to music:\n",
    "\n",
    "1. To generate a somewhat interesting melody, we want to get a sequence of both pitches and durations. If we encode rests too, we can generate any melody like this. So far our Markov Chains dealt with either pitch or duration/IOI. What could we do to combine them? Describe two approaches and why to choose which one.\n",
    "\n",
    "2. Implement a simple melody generator with pitch and IOI/duration (simplest; modify taska 4; 2 to a generator of the other type and use them to create independent seuqnces). Write some generated melodies to MIDI files!"
   ]
  },
  {
   "cell_type": "markdown",
   "id": "77888893",
   "metadata": {},
   "source": [
    "## (Tasks 7); more stuff for music:\n",
    "\n",
    "1. Keys are perceptual centers of gravity in the pitch space, so if we transpose all the input sequences to the same key we can compute empirical pitch distributions within a key!\n",
    "\n",
    "2. One solution to tasks 5, 2 is to use Prediction by Partial Matching. This is the basis of the most elaborate probabilitstic model ofsymbolic music the Information Dynamics of Music (IDyOM). See references here:\n",
    "https://researchcommons.waikato.ac.nz/bitstream/handle/10289/9913/uow-cs-wp-1993-12.pdf\n",
    "https://mtpearce.github.io/idyom/\n"
   ]
  }
 ],
 "metadata": {
  "kernelspec": {
   "display_name": "Python 3",
   "language": "python",
   "name": "python3"
  },
  "language_info": {
   "codemirror_mode": {
    "name": "ipython",
    "version": 3
   },
   "file_extension": ".py",
   "mimetype": "text/x-python",
   "name": "python",
   "nbconvert_exporter": "python",
   "pygments_lexer": "ipython3",
   "version": "3.8.5"
  }
 },
 "nbformat": 4,
 "nbformat_minor": 5
}
