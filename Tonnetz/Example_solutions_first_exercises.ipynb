{
 "cells": [
  {
   "cell_type": "code",
   "execution_count": 5,
   "metadata": {},
   "outputs": [
    {
     "name": "stderr",
     "output_type": "stream",
     "text": [
      "ignoring direction type: metronome {'parentheses': 'no', 'default-x': '-43.08', 'relative-y': '20.00'}\n"
     ]
    }
   ],
   "source": [
    "import partitura as pt\n",
    "import numpy as np\n",
    "part = pt.load_musicxml(r\"C:\\Users\\silva\\Documents\\repos\\Musical_Informatics\\miws2021env\\Tonnetz\\Exercise_01.musicxml\")"
   ]
  },
  {
   "cell_type": "code",
   "execution_count": 7,
   "metadata": {},
   "outputs": [
    {
     "data": {
      "text/plain": [
       "array([( 0., 4.,  0., 4.,  0, 4, 60, 1, 'None'),\n",
       "       ( 0., 4.,  0., 4.,  0, 4, 64, 1, 'None'),\n",
       "       ( 0., 4.,  0., 4.,  0, 4, 67, 1, 'None'),\n",
       "       ( 4., 4.,  4., 4.,  4, 4, 62, 1, 'None'),\n",
       "       ( 4., 4.,  4., 4.,  4, 4, 65, 1, 'None'),\n",
       "       ( 4., 4.,  4., 4.,  4, 4, 69, 1, 'None'),\n",
       "       ( 8., 4.,  8., 4.,  8, 4, 62, 1, 'None'),\n",
       "       ( 8., 4.,  8., 4.,  8, 4, 77, 1, 'None'),\n",
       "       ( 8., 4.,  8., 4.,  8, 4, 81, 1, 'None'),\n",
       "       (12., 4., 12., 4., 12, 4, 62, 1, 'None'),\n",
       "       (12., 4., 12., 4., 12, 4, 67, 1, 'None'),\n",
       "       (12., 4., 12., 4., 12, 4, 71, 1, 'None'),\n",
       "       (16., 4., 16., 4., 16, 4, 60, 1, 'None'),\n",
       "       (16., 4., 16., 4., 16, 4, 64, 1, 'None'),\n",
       "       (16., 4., 16., 4., 16, 4, 67, 1, 'None'),\n",
       "       (16., 4., 16., 4., 16, 4, 72, 1, 'None')],\n",
       "      dtype=[('onset_beat', '<f4'), ('duration_beat', '<f4'), ('onset_quarter', '<f4'), ('duration_quarter', '<f4'), ('onset_div', '<i4'), ('duration_div', '<i4'), ('pitch', '<i4'), ('voice', '<i4'), ('id', '<U256')])"
      ]
     },
     "execution_count": 7,
     "metadata": {},
     "output_type": "execute_result"
    }
   ],
   "source": [
    "notes =part.note_array\n",
    "notes"
   ]
  },
  {
   "cell_type": "code",
   "execution_count": 9,
   "metadata": {},
   "outputs": [
    {
     "data": {
      "text/plain": [
       "array([ 0.,  4.,  8., 12., 16.], dtype=float32)"
      ]
     },
     "execution_count": 9,
     "metadata": {},
     "output_type": "execute_result"
    }
   ],
   "source": [
    "unique_onsets = np.unique(notes[\"onset_beat\"])\n",
    "unique_onsets"
   ]
  },
  {
   "cell_type": "code",
   "execution_count": 39,
   "metadata": {},
   "outputs": [
    {
     "data": {
      "text/plain": [
       "[[60, 64, 67], [62, 65, 69], [62, 77, 81], [62, 67, 71], [60, 64, 67, 72]]"
      ]
     },
     "execution_count": 39,
     "metadata": {},
     "output_type": "execute_result"
    }
   ],
   "source": [
    "chords = []\n",
    "for ux in unique_onsets:\n",
    "    pitches = notes[notes[\"onset_beat\"]==ux][\"pitch\"]\n",
    "    chords.append([int(p) for p in pitches])\n",
    "chords"
   ]
  },
  {
   "cell_type": "code",
   "execution_count": 40,
   "metadata": {},
   "outputs": [],
   "source": [
    "def note_to_pitch_class(note):\n",
    "    if isinstance(note, int):\n",
    "        return (note%12, int(np.floor(note/12)*12))\n",
    "    elif isinstance(note, tuple):\n",
    "        return np.sum(note)"
   ]
  },
  {
   "cell_type": "code",
   "execution_count": 41,
   "metadata": {},
   "outputs": [
    {
     "data": {
      "text/plain": [
       "(10, 24)"
      ]
     },
     "execution_count": 41,
     "metadata": {},
     "output_type": "execute_result"
    }
   ],
   "source": [
    "note_to_pitch_class(34)"
   ]
  },
  {
   "cell_type": "code",
   "execution_count": 44,
   "metadata": {},
   "outputs": [],
   "source": [
    "def transpose(chord, step):\n",
    "    pc_chord = list(map(note_to_pitch_class,chord))\n",
    "    # print(pc_chord)\n",
    "    pc_chord_t = [((n[0]+step)%12,n[1]) for n in pc_chord ]\n",
    "    return list(map(note_to_pitch_class,pc_chord_t))"
   ]
  },
  {
   "cell_type": "code",
   "execution_count": 45,
   "metadata": {},
   "outputs": [
    {
     "name": "stdout",
     "output_type": "stream",
     "text": [
      "[60, 64, 67] [65, 69, 60]\n",
      "[62, 65, 69] [67, 70, 62]\n",
      "[62, 77, 81] [67, 82, 74]\n",
      "[62, 67, 71] [67, 60, 64]\n",
      "[60, 64, 67, 72] [65, 69, 60, 77]\n"
     ]
    }
   ],
   "source": [
    "for ch in chords:\n",
    "    print(ch, transpose(ch, 5))"
   ]
  },
  {
   "cell_type": "code",
   "execution_count": null,
   "metadata": {},
   "outputs": [],
   "source": [
    "def l(chord, chordtype):\n",
    "    if chordtype = \"m\":\n",
    "        nchord = transpose(chord, 8)\n",
    "        # pc, octave = note_to_pitch_class(nchord[1]) \n",
    "        nchord[1] = transpose([nchord[1]],+1)[0]\n",
    "        return nchord\n",
    "    elif chordtype = \"M\":\n",
    "        nchord = transpose(chord, 4)\n",
    "        # pc, octave = note_to_pitch_class(nchord[1]) \n",
    "        nchord[1] = transpose([nchord[1]],-1)[0]\n",
    "        return nchord"
   ]
  }
 ],
 "metadata": {
  "kernelspec": {
   "display_name": "Python 3",
   "language": "python",
   "name": "python3"
  },
  "language_info": {
   "codemirror_mode": {
    "name": "ipython",
    "version": 3
   },
   "file_extension": ".py",
   "mimetype": "text/x-python",
   "name": "python",
   "nbconvert_exporter": "python",
   "pygments_lexer": "ipython3",
   "version": "3.7.9"
  }
 },
 "nbformat": 4,
 "nbformat_minor": 4
}
