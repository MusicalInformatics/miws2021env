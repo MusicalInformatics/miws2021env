{
 "cells": [
  {
   "cell_type": "markdown",
   "metadata": {},
   "source": [
    "# The Partitura Package\n",
    "\n",
    "partitura is python 3 package for symbolic music processing developed and maintained at OFAI Vienna / CP JKU Linz (and otther contributors). It's inteded to give a lightweight musical part representation that makes many score properties easily accessible for specific tasks. Furthermore it's a very useful I/O utility to parse computer formats of symbolic music such as MusicXML / MIDI. \n",
    "\n",
    "The repo can be found here (stable = master branch, bleeding edge = develop): https://github.com/CPJKU/partitura\n",
    "Documentation can be found here: https://partitura.readthedocs.io/en/latest/\n",
    "\n",
    "# The part object\n",
    "\n",
    "The ```part``` object is the central object of partitura. It contains a score.\n",
    "- it is a timeline object\n",
    "- time is measured in divs\n",
    "- its elements are timed objects, i.e. they have a starting time and an ending time\n",
    "- external score files are loaded into a part\n",
    "- parts can be exported into score files\n",
    "- it contains many useful methods related to its properties\n"
   ]
  },
  {
   "cell_type": "code",
   "execution_count": 1,
   "metadata": {},
   "outputs": [
    {
     "name": "stdout",
     "output_type": "stream",
     "text": [
      "Part id=\"P1\" name=\"Piano\"\n",
      " │\n",
      " ├─ TimePoint t=0 quarter=12\n",
      " │   │\n",
      " │   └─ starting objects\n",
      " │       │\n",
      " │       ├─ 0--48 Measure number=1\n",
      " │       ├─ 0--48 Note id=n01 voice=1 staff=2 type=whole pitch=A4\n",
      " │       ├─ 0--48 Page number=1\n",
      " │       ├─ 0--24 Rest id=r01 voice=2 staff=1 type=half\n",
      " │       ├─ 0--48 System number=1\n",
      " │       └─ 0-- TimeSignature 4/4\n",
      " │\n",
      " ├─ TimePoint t=24 quarter=12\n",
      " │   │\n",
      " │   ├─ ending objects\n",
      " │   │   │\n",
      " │   │   └─ 0--24 Rest id=r01 voice=2 staff=1 type=half\n",
      " │   │\n",
      " │   └─ starting objects\n",
      " │       │\n",
      " │       ├─ 24--48 Note id=n02 voice=2 staff=1 type=half pitch=C5\n",
      " │       └─ 24--48 Note id=n03 voice=2 staff=1 type=half pitch=E5\n",
      " │\n",
      " └─ TimePoint t=48 quarter=12\n",
      "     │\n",
      "     └─ ending objects\n",
      "         │\n",
      "         ├─ 0--48 Measure number=1\n",
      "         ├─ 0--48 Note id=n01 voice=1 staff=2 type=whole pitch=A4\n",
      "         ├─ 24--48 Note id=n02 voice=2 staff=1 type=half pitch=C5\n",
      "         ├─ 24--48 Note id=n03 voice=2 staff=1 type=half pitch=E5\n",
      "         ├─ 0--48 Page number=1\n",
      "         └─ 0--48 System number=1\n"
     ]
    }
   ],
   "source": [
    "import partitura as pt\n",
    "path_to_musicxml = pt.EXAMPLE_MUSICXML\n",
    "part = pt.load_musicxml(path_to_musicxml)\n",
    "print(part.pretty())\n",
    "# what do we need to modify to see a somewhat pretty part?\n",
    "# what do we see here?"
   ]
  },
  {
   "cell_type": "code",
   "execution_count": null,
   "metadata": {},
   "outputs": [],
   "source": []
  },
  {
   "cell_type": "markdown",
   "metadata": {},
   "source": [
    "## Notes"
   ]
  },
  {
   "cell_type": "code",
   "execution_count": 2,
   "metadata": {},
   "outputs": [
    {
     "data": {
      "text/plain": [
       "[<partitura.score.Note at 0x7f8e380d67d0>,\n",
       " <partitura.score.Note at 0x7f8e380d8210>,\n",
       " <partitura.score.Note at 0x7f8e380d8310>]"
      ]
     },
     "execution_count": 2,
     "metadata": {},
     "output_type": "execute_result"
    }
   ],
   "source": [
    "part.notes"
   ]
  },
  {
   "cell_type": "code",
   "execution_count": 3,
   "metadata": {},
   "outputs": [
    {
     "data": {
      "text/plain": [
       "<partitura.score.TimePoint at 0x7f8e88450a10>"
      ]
     },
     "execution_count": 3,
     "metadata": {},
     "output_type": "execute_result"
    }
   ],
   "source": [
    "# notes are timed objects\n",
    "part.notes[0].start\n",
    "# dir(part.notes[0])"
   ]
  },
  {
   "cell_type": "code",
   "execution_count": 4,
   "metadata": {},
   "outputs": [],
   "source": [
    "# adding notes (times in divs!)\n",
    "a_new_note = pt.score.Note(id='n04', step='A', octave=4, voice=1)\n",
    "part.add(a_new_note, start=0, end=12)\n",
    "# print(part.pretty())"
   ]
  },
  {
   "cell_type": "code",
   "execution_count": 5,
   "metadata": {},
   "outputs": [],
   "source": [
    "# deleting notes\n",
    "part.remove(a_new_note)\n",
    "# print(part.pretty())\n",
    "\n",
    "# how do you go about notes for which you don't have the corresponding object variable?"
   ]
  },
  {
   "cell_type": "markdown",
   "metadata": {},
   "source": [
    "## Iterating over arbitrary musical objects"
   ]
  },
  {
   "cell_type": "code",
   "execution_count": 6,
   "metadata": {},
   "outputs": [
    {
     "name": "stdout",
     "output_type": "stream",
     "text": [
      "0--48 Measure number=1\n"
     ]
    }
   ],
   "source": [
    "for measure in part.iter_all(pt.score.Measure):\n",
    "    print(measure)"
   ]
  },
  {
   "cell_type": "code",
   "execution_count": 7,
   "metadata": {},
   "outputs": [
    {
     "name": "stdout",
     "output_type": "stream",
     "text": [
      "0--48 Note id=n01 voice=1 staff=2 type=whole pitch=A4\n"
     ]
    }
   ],
   "source": [
    "for note in part.iter_all(pt.score.Note, include_subclasses=True, start=0, end=24):\n",
    "    print(note)"
   ]
  },
  {
   "cell_type": "markdown",
   "metadata": {},
   "source": [
    "## The note_array"
   ]
  },
  {
   "cell_type": "code",
   "execution_count": 8,
   "metadata": {},
   "outputs": [
    {
     "data": {
      "text/plain": [
       "array([(0., 4., 0., 4.,  0, 48, 69, 1, 'n01'),\n",
       "       (2., 2., 2., 2., 24, 24, 72, 2, 'n02'),\n",
       "       (2., 2., 2., 2., 24, 24, 76, 2, 'n03')],\n",
       "      dtype=[('onset_beat', '<f4'), ('duration_beat', '<f4'), ('onset_quarter', '<f4'), ('duration_quarter', '<f4'), ('onset_div', '<i4'), ('duration_div', '<i4'), ('pitch', '<i4'), ('voice', '<i4'), ('id', '<U256')])"
      ]
     },
     "execution_count": 8,
     "metadata": {},
     "output_type": "execute_result"
    }
   ],
   "source": [
    "# getting structured numpy array of notes from a part \n",
    "part.note_array"
   ]
  },
  {
   "cell_type": "code",
   "execution_count": 9,
   "metadata": {},
   "outputs": [
    {
     "data": {
      "text/plain": [
       "array([(0., 69), (2., 72), (2., 76)],\n",
       "      dtype={'names':['onset_beat','pitch'], 'formats':['<f4','<i4'], 'offsets':[0,24], 'itemsize':1056})"
      ]
     },
     "execution_count": 9,
     "metadata": {},
     "output_type": "execute_result"
    }
   ],
   "source": [
    "part.note_array[[\"onset_beat\", \"pitch\"]]"
   ]
  },
  {
   "cell_type": "markdown",
   "metadata": {},
   "source": [
    "## File Import"
   ]
  },
  {
   "cell_type": "code",
   "execution_count": 10,
   "metadata": {},
   "outputs": [],
   "source": [
    "# score representation format musicXML -> lets look at a file\n",
    "part = pt.load_musicxml(path_to_musicxml)"
   ]
  },
  {
   "cell_type": "code",
   "execution_count": 11,
   "metadata": {},
   "outputs": [],
   "source": [
    "path_to_midifile = pt.EXAMPLE_MIDI\n",
    "performedpart = pt.load_performance_midi(path_to_midifile)"
   ]
  },
  {
   "cell_type": "markdown",
   "metadata": {},
   "source": [
    "### excursion: what's a performed part?"
   ]
  },
  {
   "cell_type": "code",
   "execution_count": 12,
   "metadata": {},
   "outputs": [
    {
     "data": {
      "text/plain": [
       "[{'id': 'n0',\n",
       "  'midi_pitch': 69,\n",
       "  'note_on': 0.0,\n",
       "  'note_off': 2.0,\n",
       "  'track': 0,\n",
       "  'channel': 1,\n",
       "  'velocity': 64,\n",
       "  'sound_off': 2.0},\n",
       " {'id': 'n1',\n",
       "  'midi_pitch': 72,\n",
       "  'note_on': 1.0,\n",
       "  'note_off': 2.0,\n",
       "  'track': 0,\n",
       "  'channel': 2,\n",
       "  'velocity': 64,\n",
       "  'sound_off': 2.0},\n",
       " {'id': 'n2',\n",
       "  'midi_pitch': 76,\n",
       "  'note_on': 1.0,\n",
       "  'note_off': 2.0,\n",
       "  'track': 0,\n",
       "  'channel': 2,\n",
       "  'velocity': 64,\n",
       "  'sound_off': 2.0}]"
      ]
     },
     "execution_count": 12,
     "metadata": {},
     "output_type": "execute_result"
    }
   ],
   "source": [
    "performedpart.notes"
   ]
  },
  {
   "cell_type": "markdown",
   "metadata": {},
   "source": [
    "### excursion of the excursion: why isn't this a score representation?\n",
    "musical notes representation format MIDI -> lets look at a file"
   ]
  },
  {
   "cell_type": "code",
   "execution_count": 13,
   "metadata": {},
   "outputs": [
    {
     "ename": "FileNotFoundError",
     "evalue": "[Errno 2] No such file or directory: 'example_data\\\\Chopin_op10_no3_p01.mid'",
     "output_type": "error",
     "traceback": [
      "\u001b[0;31m---------------------------------------------------------------------------\u001b[0m",
      "\u001b[0;31mFileNotFoundError\u001b[0m                         Traceback (most recent call last)",
      "\u001b[0;32m<ipython-input-13-cd0d7c16a128>\u001b[0m in \u001b[0;36m<module>\u001b[0;34m\u001b[0m\n\u001b[0;32m----> 1\u001b[0;31m \u001b[0;32mwith\u001b[0m \u001b[0mopen\u001b[0m\u001b[0;34m(\u001b[0m\u001b[0;34m\"example_data\\\\Chopin_op10_no3_p01.mid\"\u001b[0m\u001b[0;34m,\u001b[0m \u001b[0;34m'rb'\u001b[0m\u001b[0;34m)\u001b[0m \u001b[0;32mas\u001b[0m \u001b[0mf\u001b[0m\u001b[0;34m:\u001b[0m\u001b[0;34m\u001b[0m\u001b[0;34m\u001b[0m\u001b[0m\n\u001b[0m\u001b[1;32m      2\u001b[0m     \u001b[0;31m# print(dir(f))\u001b[0m\u001b[0;34m\u001b[0m\u001b[0;34m\u001b[0m\u001b[0;34m\u001b[0m\u001b[0m\n\u001b[1;32m      3\u001b[0m     \u001b[0;32mfor\u001b[0m \u001b[0mline\u001b[0m \u001b[0;32min\u001b[0m \u001b[0mf\u001b[0m\u001b[0;34m:\u001b[0m\u001b[0;34m\u001b[0m\u001b[0;34m\u001b[0m\u001b[0m\n\u001b[1;32m      4\u001b[0m         \u001b[0mprint\u001b[0m\u001b[0;34m(\u001b[0m\u001b[0;34m(\u001b[0m\u001b[0mline\u001b[0m\u001b[0;34m.\u001b[0m\u001b[0mhex\u001b[0m\u001b[0;34m(\u001b[0m\u001b[0;34m)\u001b[0m\u001b[0;34m)\u001b[0m\u001b[0;34m)\u001b[0m\u001b[0;34m\u001b[0m\u001b[0;34m\u001b[0m\u001b[0m\n\u001b[1;32m      5\u001b[0m         \u001b[0mprint\u001b[0m\u001b[0;34m(\u001b[0m\u001b[0;34m\"---\"\u001b[0m\u001b[0;34m)\u001b[0m\u001b[0;34m\u001b[0m\u001b[0;34m\u001b[0m\u001b[0m\n",
      "\u001b[0;31mFileNotFoundError\u001b[0m: [Errno 2] No such file or directory: 'example_data\\\\Chopin_op10_no3_p01.mid'"
     ]
    }
   ],
   "source": [
    "with open(\"example_data\\\\Chopin_op10_no3_p01.mid\", 'rb') as f:\n",
    "    # print(dir(f))\n",
    "    for line in f:        \n",
    "        print((line.hex()))\n",
    "        print(\"---\")"
   ]
  },
  {
   "cell_type": "markdown",
   "metadata": {},
   "source": [
    "### part + performedpart + note alignment = match file"
   ]
  },
  {
   "cell_type": "code",
   "execution_count": 58,
   "metadata": {},
   "outputs": [],
   "source": [
    "performedpart_m, alignment, part_m = pt.load_match(\"example_data\\\\Chopin_op10_no3_p01.match\", create_part=True)"
   ]
  },
  {
   "cell_type": "code",
   "execution_count": 59,
   "metadata": {},
   "outputs": [
    {
     "data": {
      "text/plain": [
       "[{'label': 'match', 'score_id': 'n1', 'performance_id': 0},\n",
       " {'label': 'match', 'score_id': 'n2', 'performance_id': 2},\n",
       " {'label': 'match', 'score_id': 'n3', 'performance_id': 3},\n",
       " {'label': 'match', 'score_id': 'n4', 'performance_id': 1},\n",
       " {'label': 'match', 'score_id': 'n5', 'performance_id': 5},\n",
       " {'label': 'match', 'score_id': 'n6', 'performance_id': 4},\n",
       " {'label': 'match', 'score_id': 'n7', 'performance_id': 6},\n",
       " {'label': 'match', 'score_id': 'n8', 'performance_id': 7},\n",
       " {'label': 'match', 'score_id': 'n9', 'performance_id': 8},\n",
       " {'label': 'match', 'score_id': 'n10', 'performance_id': 9},\n",
       " {'label': 'match', 'score_id': 'n11', 'performance_id': 10},\n",
       " {'label': 'match', 'score_id': 'n12', 'performance_id': 11},\n",
       " {'label': 'match', 'score_id': 'n13', 'performance_id': 13},\n",
       " {'label': 'match', 'score_id': 'n14', 'performance_id': 14},\n",
       " {'label': 'match', 'score_id': 'n15', 'performance_id': 12},\n",
       " {'label': 'match', 'score_id': 'n16', 'performance_id': 16},\n",
       " {'label': 'match', 'score_id': 'n17', 'performance_id': 15},\n",
       " {'label': 'match', 'score_id': 'n18', 'performance_id': 17},\n",
       " {'label': 'match', 'score_id': 'n19', 'performance_id': 19},\n",
       " {'label': 'match', 'score_id': 'n20', 'performance_id': 18},\n",
       " {'label': 'match', 'score_id': 'n21', 'performance_id': 20},\n",
       " {'label': 'match', 'score_id': 'n22', 'performance_id': 21},\n",
       " {'label': 'match', 'score_id': 'n23', 'performance_id': 22},\n",
       " {'label': 'match', 'score_id': 'n24', 'performance_id': 23},\n",
       " {'label': 'match', 'score_id': 'n25', 'performance_id': 24},\n",
       " {'label': 'match', 'score_id': 'n26', 'performance_id': 25},\n",
       " {'label': 'match', 'score_id': 'n27', 'performance_id': 26},\n",
       " {'label': 'match', 'score_id': 'n28', 'performance_id': 27},\n",
       " {'label': 'match', 'score_id': 'n29', 'performance_id': 28},\n",
       " {'label': 'match', 'score_id': 'n30', 'performance_id': 29},\n",
       " {'label': 'match', 'score_id': 'n31', 'performance_id': 30},\n",
       " {'label': 'match', 'score_id': 'n32', 'performance_id': 31},\n",
       " {'label': 'match', 'score_id': 'n33', 'performance_id': 33},\n",
       " {'label': 'match', 'score_id': 'n34', 'performance_id': 34},\n",
       " {'label': 'match', 'score_id': 'n35', 'performance_id': 32},\n",
       " {'label': 'match', 'score_id': 'n36', 'performance_id': 36},\n",
       " {'label': 'match', 'score_id': 'n37', 'performance_id': 35},\n",
       " {'label': 'match', 'score_id': 'n38', 'performance_id': 37},\n",
       " {'label': 'match', 'score_id': 'n39', 'performance_id': 39},\n",
       " {'label': 'match', 'score_id': 'n40', 'performance_id': 38},\n",
       " {'label': 'match', 'score_id': 'n41', 'performance_id': 41},\n",
       " {'label': 'match', 'score_id': 'n42', 'performance_id': 40},\n",
       " {'label': 'match', 'score_id': 'n43', 'performance_id': 42},\n",
       " {'label': 'match', 'score_id': 'n44', 'performance_id': 44},\n",
       " {'label': 'match', 'score_id': 'n45', 'performance_id': 43},\n",
       " {'label': 'match', 'score_id': 'n46', 'performance_id': 45},\n",
       " {'label': 'match', 'score_id': 'n47', 'performance_id': 46},\n",
       " {'label': 'match', 'score_id': 'n48', 'performance_id': 47},\n",
       " {'label': 'match', 'score_id': 'n49', 'performance_id': 48},\n",
       " {'label': 'match', 'score_id': 'n50', 'performance_id': 49},\n",
       " {'label': 'match', 'score_id': 'n51', 'performance_id': 50},\n",
       " {'label': 'match', 'score_id': 'n52', 'performance_id': 51},\n",
       " {'label': 'match', 'score_id': 'n53', 'performance_id': 52},\n",
       " {'label': 'match', 'score_id': 'n54', 'performance_id': 54},\n",
       " {'label': 'match', 'score_id': 'n55', 'performance_id': 53},\n",
       " {'label': 'match', 'score_id': 'n56', 'performance_id': 55},\n",
       " {'label': 'match', 'score_id': 'n57', 'performance_id': 56},\n",
       " {'label': 'match', 'score_id': 'n58', 'performance_id': 57},\n",
       " {'label': 'match', 'score_id': 'n59', 'performance_id': 58},\n",
       " {'label': 'match', 'score_id': 'n60', 'performance_id': 59},\n",
       " {'label': 'match', 'score_id': 'n61', 'performance_id': 61},\n",
       " {'label': 'match', 'score_id': 'n62', 'performance_id': 60},\n",
       " {'label': 'match', 'score_id': 'n63', 'performance_id': 62},\n",
       " {'label': 'match', 'score_id': 'n64', 'performance_id': 63},\n",
       " {'label': 'match', 'score_id': 'n65', 'performance_id': 64},\n",
       " {'label': 'match', 'score_id': 'n66', 'performance_id': 65},\n",
       " {'label': 'match', 'score_id': 'n67', 'performance_id': 66},\n",
       " {'label': 'match', 'score_id': 'n68', 'performance_id': 67},\n",
       " {'label': 'match', 'score_id': 'n69', 'performance_id': 68},\n",
       " {'label': 'match', 'score_id': 'n70', 'performance_id': 69},\n",
       " {'label': 'match', 'score_id': 'n71', 'performance_id': 70},\n",
       " {'label': 'match', 'score_id': 'n72', 'performance_id': 72},\n",
       " {'label': 'match', 'score_id': 'n73', 'performance_id': 73},\n",
       " {'label': 'match', 'score_id': 'n74', 'performance_id': 71},\n",
       " {'label': 'match', 'score_id': 'n75', 'performance_id': 74},\n",
       " {'label': 'match', 'score_id': 'n76', 'performance_id': 76},\n",
       " {'label': 'match', 'score_id': 'n77', 'performance_id': 75},\n",
       " {'label': 'match', 'score_id': 'n78', 'performance_id': 77},\n",
       " {'label': 'match', 'score_id': 'n79', 'performance_id': 78},\n",
       " {'label': 'match', 'score_id': 'n80', 'performance_id': 80},\n",
       " {'label': 'match', 'score_id': 'n81', 'performance_id': 81},\n",
       " {'label': 'match', 'score_id': 'n82', 'performance_id': 79},\n",
       " {'label': 'match', 'score_id': 'n83', 'performance_id': 83},\n",
       " {'label': 'match', 'score_id': 'n84', 'performance_id': 84},\n",
       " {'label': 'match', 'score_id': 'n85', 'performance_id': 82},\n",
       " {'label': 'match', 'score_id': 'n86', 'performance_id': 85},\n",
       " {'label': 'match', 'score_id': 'n87', 'performance_id': 86},\n",
       " {'label': 'match', 'score_id': 'n88', 'performance_id': 88},\n",
       " {'label': 'match', 'score_id': 'n89', 'performance_id': 87},\n",
       " {'label': 'match', 'score_id': 'n90', 'performance_id': 89},\n",
       " {'label': 'match', 'score_id': 'n91', 'performance_id': 90},\n",
       " {'label': 'match', 'score_id': 'n92', 'performance_id': 91},\n",
       " {'label': 'match', 'score_id': 'n93', 'performance_id': 92},\n",
       " {'label': 'match', 'score_id': 'n94', 'performance_id': 94},\n",
       " {'label': 'match', 'score_id': 'n95', 'performance_id': 93},\n",
       " {'label': 'match', 'score_id': 'n96', 'performance_id': 95},\n",
       " {'label': 'match', 'score_id': 'n97', 'performance_id': 96},\n",
       " {'label': 'match', 'score_id': 'n98', 'performance_id': 98},\n",
       " {'label': 'match', 'score_id': 'n99', 'performance_id': 97},\n",
       " {'label': 'match', 'score_id': 'n100', 'performance_id': 100},\n",
       " {'label': 'match', 'score_id': 'n101', 'performance_id': 99},\n",
       " {'label': 'match', 'score_id': 'n102', 'performance_id': 101},\n",
       " {'label': 'match', 'score_id': 'n103', 'performance_id': 102},\n",
       " {'label': 'match', 'score_id': 'n104', 'performance_id': 103},\n",
       " {'label': 'match', 'score_id': 'n105', 'performance_id': 104},\n",
       " {'label': 'match', 'score_id': 'n106', 'performance_id': 106},\n",
       " {'label': 'match', 'score_id': 'n107', 'performance_id': 105},\n",
       " {'label': 'match', 'score_id': 'n108', 'performance_id': 107},\n",
       " {'label': 'match', 'score_id': 'n109', 'performance_id': 109},\n",
       " {'label': 'match', 'score_id': 'n110', 'performance_id': 108},\n",
       " {'label': 'match', 'score_id': 'n111', 'performance_id': 110},\n",
       " {'label': 'match', 'score_id': 'n112', 'performance_id': 111},\n",
       " {'label': 'match', 'score_id': 'n113', 'performance_id': 112},\n",
       " {'label': 'match', 'score_id': 'n114', 'performance_id': 114},\n",
       " {'label': 'match', 'score_id': 'n115', 'performance_id': 113},\n",
       " {'label': 'match', 'score_id': 'n116', 'performance_id': 115},\n",
       " {'label': 'match', 'score_id': 'n117', 'performance_id': 116},\n",
       " {'label': 'match', 'score_id': 'n118', 'performance_id': 117},\n",
       " {'label': 'match', 'score_id': 'n119', 'performance_id': 118},\n",
       " {'label': 'match', 'score_id': 'n120', 'performance_id': 120},\n",
       " {'label': 'match', 'score_id': 'n121', 'performance_id': 119},\n",
       " {'label': 'match', 'score_id': 'n122', 'performance_id': 121},\n",
       " {'label': 'match', 'score_id': 'n123', 'performance_id': 122},\n",
       " {'label': 'match', 'score_id': 'n124', 'performance_id': 123},\n",
       " {'label': 'match', 'score_id': 'n125', 'performance_id': 125},\n",
       " {'label': 'match', 'score_id': 'n126', 'performance_id': 124},\n",
       " {'label': 'match', 'score_id': 'n127', 'performance_id': 127},\n",
       " {'label': 'match', 'score_id': 'n128', 'performance_id': 128},\n",
       " {'label': 'match', 'score_id': 'n129', 'performance_id': 126},\n",
       " {'label': 'match', 'score_id': 'n130', 'performance_id': 130},\n",
       " {'label': 'match', 'score_id': 'n131', 'performance_id': 129},\n",
       " {'label': 'match', 'score_id': 'n132', 'performance_id': 131},\n",
       " {'label': 'match', 'score_id': 'n133', 'performance_id': 132},\n",
       " {'label': 'match', 'score_id': 'n134', 'performance_id': 133},\n",
       " {'label': 'match', 'score_id': 'n135', 'performance_id': 134},\n",
       " {'label': 'match', 'score_id': 'n136', 'performance_id': 135},\n",
       " {'label': 'match', 'score_id': 'n137', 'performance_id': 136},\n",
       " {'label': 'match', 'score_id': 'n138', 'performance_id': 138},\n",
       " {'label': 'match', 'score_id': 'n139', 'performance_id': 137},\n",
       " {'label': 'match', 'score_id': 'n140', 'performance_id': 140},\n",
       " {'label': 'match', 'score_id': 'n141', 'performance_id': 141},\n",
       " {'label': 'match', 'score_id': 'n142', 'performance_id': 139},\n",
       " {'label': 'match', 'score_id': 'n143', 'performance_id': 142},\n",
       " {'label': 'match', 'score_id': 'n144', 'performance_id': 144},\n",
       " {'label': 'match', 'score_id': 'n145', 'performance_id': 143},\n",
       " {'label': 'match', 'score_id': 'n146', 'performance_id': 146},\n",
       " {'label': 'match', 'score_id': 'n147', 'performance_id': 145},\n",
       " {'label': 'match', 'score_id': 'n148', 'performance_id': 147},\n",
       " {'label': 'match', 'score_id': 'n149', 'performance_id': 148},\n",
       " {'label': 'match', 'score_id': 'n150', 'performance_id': 150},\n",
       " {'label': 'match', 'score_id': 'n151', 'performance_id': 151},\n",
       " {'label': 'match', 'score_id': 'n152', 'performance_id': 149},\n",
       " {'label': 'match', 'score_id': 'n153', 'performance_id': 152},\n",
       " {'label': 'match', 'score_id': 'n154', 'performance_id': 153},\n",
       " {'label': 'match', 'score_id': 'n155', 'performance_id': 154},\n",
       " {'label': 'match', 'score_id': 'n156', 'performance_id': 155},\n",
       " {'label': 'match', 'score_id': 'n157', 'performance_id': 156},\n",
       " {'label': 'match', 'score_id': 'n158', 'performance_id': 158},\n",
       " {'label': 'match', 'score_id': 'n159', 'performance_id': 157},\n",
       " {'label': 'match', 'score_id': 'n160', 'performance_id': 159},\n",
       " {'label': 'match', 'score_id': 'n161', 'performance_id': 160},\n",
       " {'label': 'match', 'score_id': 'n162', 'performance_id': 161},\n",
       " {'label': 'match', 'score_id': 'n163', 'performance_id': 162},\n",
       " {'label': 'match', 'score_id': 'n164', 'performance_id': 163},\n",
       " {'label': 'match', 'score_id': 'n165', 'performance_id': 165},\n",
       " {'label': 'match', 'score_id': 'n166', 'performance_id': 167},\n",
       " {'label': 'match', 'score_id': 'n167', 'performance_id': 166},\n",
       " {'label': 'match', 'score_id': 'n168', 'performance_id': 164},\n",
       " {'label': 'match', 'score_id': 'n169', 'performance_id': 169},\n",
       " {'label': 'match', 'score_id': 'n170', 'performance_id': 168},\n",
       " {'label': 'match', 'score_id': 'n171', 'performance_id': 170},\n",
       " {'label': 'match', 'score_id': 'n172', 'performance_id': 171},\n",
       " {'label': 'match', 'score_id': 'n173', 'performance_id': 172},\n",
       " {'label': 'match', 'score_id': 'n174', 'performance_id': 174},\n",
       " {'label': 'match', 'score_id': 'n175', 'performance_id': 173},\n",
       " {'label': 'match', 'score_id': 'n176', 'performance_id': 175},\n",
       " {'label': 'match', 'score_id': 'n177', 'performance_id': 177},\n",
       " {'label': 'match', 'score_id': 'n178', 'performance_id': 178},\n",
       " {'label': 'match', 'score_id': 'n179', 'performance_id': 176},\n",
       " {'label': 'match', 'score_id': 'n180', 'performance_id': 180},\n",
       " {'label': 'match', 'score_id': 'n181', 'performance_id': 179},\n",
       " {'label': 'match', 'score_id': 'n182', 'performance_id': 181},\n",
       " {'label': 'match', 'score_id': 'n183', 'performance_id': 182},\n",
       " {'label': 'match', 'score_id': 'n184', 'performance_id': 183},\n",
       " {'label': 'match', 'score_id': 'n185', 'performance_id': 184},\n",
       " {'label': 'match', 'score_id': 'n186', 'performance_id': 185},\n",
       " {'label': 'match', 'score_id': 'n187', 'performance_id': 186},\n",
       " {'label': 'match', 'score_id': 'n188', 'performance_id': 187},\n",
       " {'label': 'match', 'score_id': 'n189', 'performance_id': 188},\n",
       " {'label': 'match', 'score_id': 'n190', 'performance_id': 189},\n",
       " {'label': 'match', 'score_id': 'n191', 'performance_id': 190},\n",
       " {'label': 'match', 'score_id': 'n192', 'performance_id': 191},\n",
       " {'label': 'match', 'score_id': 'n193', 'performance_id': 192},\n",
       " {'label': 'match', 'score_id': 'n194', 'performance_id': 194},\n",
       " {'label': 'match', 'score_id': 'n195', 'performance_id': 193},\n",
       " {'label': 'match', 'score_id': 'n196', 'performance_id': 195},\n",
       " {'label': 'match', 'score_id': 'n197', 'performance_id': 197},\n",
       " {'label': 'match', 'score_id': 'n198', 'performance_id': 198},\n",
       " {'label': 'match', 'score_id': 'n199', 'performance_id': 196},\n",
       " {'label': 'match', 'score_id': 'n200', 'performance_id': 200},\n",
       " {'label': 'match', 'score_id': 'n201', 'performance_id': 199},\n",
       " {'label': 'match', 'score_id': 'n202', 'performance_id': 201},\n",
       " {'label': 'match', 'score_id': 'n203', 'performance_id': 203},\n",
       " {'label': 'match', 'score_id': 'n204', 'performance_id': 202},\n",
       " {'label': 'match', 'score_id': 'n205', 'performance_id': 204},\n",
       " {'label': 'match', 'score_id': 'n206', 'performance_id': 205},\n",
       " {'label': 'match', 'score_id': 'n207', 'performance_id': 206},\n",
       " {'label': 'match', 'score_id': 'n208', 'performance_id': 208},\n",
       " {'label': 'match', 'score_id': 'n209', 'performance_id': 207},\n",
       " {'label': 'match', 'score_id': 'n210', 'performance_id': 209},\n",
       " {'label': 'match', 'score_id': 'n211', 'performance_id': 210},\n",
       " {'label': 'match', 'score_id': 'n212', 'performance_id': 211},\n",
       " {'label': 'match', 'score_id': 'n213', 'performance_id': 213},\n",
       " {'label': 'match', 'score_id': 'n214', 'performance_id': 212},\n",
       " {'label': 'match', 'score_id': 'n215', 'performance_id': 214},\n",
       " {'label': 'match', 'score_id': 'n216', 'performance_id': 216},\n",
       " {'label': 'match', 'score_id': 'n217', 'performance_id': 215},\n",
       " {'label': 'match', 'score_id': 'n218', 'performance_id': 218},\n",
       " {'label': 'match', 'score_id': 'n219', 'performance_id': 217},\n",
       " {'label': 'match', 'score_id': 'n220', 'performance_id': 219},\n",
       " {'label': 'match', 'score_id': 'n221', 'performance_id': 220},\n",
       " {'label': 'match', 'score_id': 'n222', 'performance_id': 222},\n",
       " {'label': 'match', 'score_id': 'n223', 'performance_id': 221},\n",
       " {'label': 'match', 'score_id': 'n224', 'performance_id': 223},\n",
       " {'label': 'match', 'score_id': 'n225', 'performance_id': 225},\n",
       " {'label': 'match', 'score_id': 'n226', 'performance_id': 224},\n",
       " {'label': 'match', 'score_id': 'n227', 'performance_id': 226},\n",
       " {'label': 'match', 'score_id': 'n228', 'performance_id': 228},\n",
       " {'label': 'match', 'score_id': 'n229', 'performance_id': 227},\n",
       " {'label': 'match', 'score_id': 'n230', 'performance_id': 229},\n",
       " {'label': 'match', 'score_id': 'n231', 'performance_id': 230},\n",
       " {'label': 'match', 'score_id': 'n232', 'performance_id': 232},\n",
       " {'label': 'match', 'score_id': 'n233', 'performance_id': 233},\n",
       " {'label': 'match', 'score_id': 'n234', 'performance_id': 231},\n",
       " {'label': 'match', 'score_id': 'n235', 'performance_id': 234},\n",
       " {'label': 'match', 'score_id': 'n236', 'performance_id': 237},\n",
       " {'label': 'match', 'score_id': 'n237', 'performance_id': 236},\n",
       " {'label': 'match', 'score_id': 'n238', 'performance_id': 235},\n",
       " {'label': 'match', 'score_id': 'n239', 'performance_id': 238},\n",
       " {'label': 'match', 'score_id': 'n240', 'performance_id': 240},\n",
       " {'label': 'match', 'score_id': 'n241', 'performance_id': 239},\n",
       " {'label': 'match', 'score_id': 'n242', 'performance_id': 241},\n",
       " {'label': 'match', 'score_id': 'n243', 'performance_id': 242},\n",
       " {'label': 'match', 'score_id': 'n244', 'performance_id': 243},\n",
       " {'label': 'match', 'score_id': 'n245', 'performance_id': 245},\n",
       " {'label': 'match', 'score_id': 'n246', 'performance_id': 244},\n",
       " {'label': 'match', 'score_id': 'n247', 'performance_id': 246},\n",
       " {'label': 'match', 'score_id': 'n248', 'performance_id': 248},\n",
       " {'label': 'match', 'score_id': 'n249', 'performance_id': 247},\n",
       " {'label': 'match', 'score_id': 'n250', 'performance_id': 249},\n",
       " {'label': 'match', 'score_id': 'n251', 'performance_id': 252},\n",
       " {'label': 'match', 'score_id': 'n252', 'performance_id': 251},\n",
       " {'label': 'match', 'score_id': 'n253', 'performance_id': 250},\n",
       " {'label': 'match', 'score_id': 'n254', 'performance_id': 253},\n",
       " {'label': 'match', 'score_id': 'n255', 'performance_id': 254},\n",
       " {'label': 'match', 'score_id': 'n256', 'performance_id': 255},\n",
       " {'label': 'match', 'score_id': 'n257', 'performance_id': 256},\n",
       " {'label': 'match', 'score_id': 'n258', 'performance_id': 259},\n",
       " {'label': 'match', 'score_id': 'n259', 'performance_id': 258},\n",
       " {'label': 'match', 'score_id': 'n260', 'performance_id': 257},\n",
       " {'label': 'match', 'score_id': 'n261', 'performance_id': 260},\n",
       " {'label': 'match', 'score_id': 'n262', 'performance_id': 262},\n",
       " {'label': 'match', 'score_id': 'n263', 'performance_id': 261},\n",
       " {'label': 'match', 'score_id': 'n264', 'performance_id': 263},\n",
       " {'label': 'match', 'score_id': 'n265', 'performance_id': 264},\n",
       " {'label': 'match', 'score_id': 'n266', 'performance_id': 265},\n",
       " {'label': 'match', 'score_id': 'n267', 'performance_id': 266},\n",
       " {'label': 'match', 'score_id': 'n268', 'performance_id': 267},\n",
       " {'label': 'match', 'score_id': 'n269', 'performance_id': 268},\n",
       " {'label': 'match', 'score_id': 'n270', 'performance_id': 270},\n",
       " {'label': 'match', 'score_id': 'n271', 'performance_id': 271},\n",
       " {'label': 'match', 'score_id': 'n272', 'performance_id': 269},\n",
       " {'label': 'match', 'score_id': 'n273', 'performance_id': 272},\n",
       " {'label': 'match', 'score_id': 'n274', 'performance_id': 274},\n",
       " {'label': 'match', 'score_id': 'n275', 'performance_id': 275},\n",
       " {'label': 'match', 'score_id': 'n276', 'performance_id': 273},\n",
       " {'label': 'match', 'score_id': 'n277', 'performance_id': 276},\n",
       " {'label': 'match', 'score_id': 'n278', 'performance_id': 277},\n",
       " {'label': 'match', 'score_id': 'n279', 'performance_id': 278},\n",
       " {'label': 'match', 'score_id': 'n280', 'performance_id': 279},\n",
       " {'label': 'match', 'score_id': 'n281', 'performance_id': 281},\n",
       " {'label': 'match', 'score_id': 'n282', 'performance_id': 282},\n",
       " {'label': 'match', 'score_id': 'n283', 'performance_id': 280},\n",
       " {'label': 'match', 'score_id': 'n284', 'performance_id': 283},\n",
       " {'label': 'match', 'score_id': 'n285', 'performance_id': 285},\n",
       " {'label': 'match', 'score_id': 'n286', 'performance_id': 284},\n",
       " {'label': 'match', 'score_id': 'n287', 'performance_id': 287},\n",
       " {'label': 'match', 'score_id': 'n288', 'performance_id': 288},\n",
       " {'label': 'match', 'score_id': 'n289', 'performance_id': 286},\n",
       " {'label': 'match', 'score_id': 'n290', 'performance_id': 289},\n",
       " {'label': 'match', 'score_id': 'n291', 'performance_id': 290},\n",
       " {'label': 'match', 'score_id': 'n292', 'performance_id': 291},\n",
       " {'label': 'match', 'score_id': 'n293', 'performance_id': 293},\n",
       " {'label': 'match', 'score_id': 'n294', 'performance_id': 292},\n",
       " {'label': 'match', 'score_id': 'n295', 'performance_id': 294},\n",
       " {'label': 'match', 'score_id': 'n296', 'performance_id': 296},\n",
       " {'label': 'match', 'score_id': 'n297', 'performance_id': 297},\n",
       " {'label': 'match', 'score_id': 'n298', 'performance_id': 295},\n",
       " {'label': 'match', 'score_id': 'n299', 'performance_id': 298},\n",
       " {'label': 'match', 'score_id': 'n300', 'performance_id': 300},\n",
       " {'label': 'match', 'score_id': 'n301', 'performance_id': 299},\n",
       " {'label': 'match', 'score_id': 'n302', 'performance_id': 301},\n",
       " {'label': 'match', 'score_id': 'n303', 'performance_id': 302},\n",
       " {'label': 'match', 'score_id': 'n304', 'performance_id': 303},\n",
       " {'label': 'match', 'score_id': 'n305', 'performance_id': 304},\n",
       " {'label': 'match', 'score_id': 'n306', 'performance_id': 307},\n",
       " {'label': 'match', 'score_id': 'n307', 'performance_id': 305},\n",
       " {'label': 'match', 'score_id': 'n308', 'performance_id': 306},\n",
       " {'label': 'match', 'score_id': 'n309', 'performance_id': 309},\n",
       " {'label': 'match', 'score_id': 'n310', 'performance_id': 310},\n",
       " {'label': 'match', 'score_id': 'n311', 'performance_id': 308},\n",
       " {'label': 'match', 'score_id': 'n312', 'performance_id': 311},\n",
       " {'label': 'match', 'score_id': 'n313', 'performance_id': 313},\n",
       " {'label': 'match', 'score_id': 'n314', 'performance_id': 312},\n",
       " {'label': 'match', 'score_id': 'n315', 'performance_id': 314},\n",
       " {'label': 'match', 'score_id': 'n316', 'performance_id': 315},\n",
       " {'label': 'match', 'score_id': 'n317', 'performance_id': 316},\n",
       " {'label': 'match', 'score_id': 'n318', 'performance_id': 318},\n",
       " {'label': 'match', 'score_id': 'n319', 'performance_id': 317},\n",
       " {'label': 'match', 'score_id': 'n320', 'performance_id': 319},\n",
       " {'label': 'match', 'score_id': 'n321', 'performance_id': 322},\n",
       " {'label': 'match', 'score_id': 'n322', 'performance_id': 321},\n",
       " {'label': 'match', 'score_id': 'n323', 'performance_id': 320},\n",
       " {'label': 'match', 'score_id': 'n324', 'performance_id': 325},\n",
       " {'label': 'match', 'score_id': 'n325', 'performance_id': 324},\n",
       " {'label': 'match', 'score_id': 'n326', 'performance_id': 323},\n",
       " {'label': 'match', 'score_id': 'n327', 'performance_id': 326},\n",
       " {'label': 'match', 'score_id': 'n328', 'performance_id': 332},\n",
       " {'label': 'match', 'score_id': 'n329', 'performance_id': 328},\n",
       " {'label': 'match', 'score_id': 'n330', 'performance_id': 327},\n",
       " {'label': 'match', 'score_id': 'n331', 'performance_id': 329},\n",
       " {'label': 'match', 'score_id': 'n332', 'performance_id': 330},\n",
       " {'label': 'match', 'score_id': 'n333', 'performance_id': 331},\n",
       " {'label': 'match', 'score_id': 'n334', 'performance_id': 334},\n",
       " {'label': 'match', 'score_id': 'n335', 'performance_id': 339},\n",
       " {'label': 'match', 'score_id': 'n336', 'performance_id': 335},\n",
       " {'label': 'match', 'score_id': 'n337', 'performance_id': 333},\n",
       " {'label': 'match', 'score_id': 'n338', 'performance_id': 337},\n",
       " {'label': 'match', 'score_id': 'n339', 'performance_id': 338},\n",
       " {'label': 'match', 'score_id': 'n340', 'performance_id': 336},\n",
       " {'label': 'match', 'score_id': 'n341', 'performance_id': 341},\n",
       " {'label': 'match', 'score_id': 'n342', 'performance_id': 344},\n",
       " {'label': 'match', 'score_id': 'n343', 'performance_id': 343},\n",
       " {'label': 'match', 'score_id': 'n344', 'performance_id': 340},\n",
       " {'label': 'match', 'score_id': 'n345', 'performance_id': 345},\n",
       " {'label': 'match', 'score_id': 'n346', 'performance_id': 346},\n",
       " {'label': 'match', 'score_id': 'n347', 'performance_id': 342},\n",
       " {'label': 'match', 'score_id': 'n348', 'performance_id': 347},\n",
       " {'label': 'match', 'score_id': 'n349', 'performance_id': 350},\n",
       " {'label': 'match', 'score_id': 'n350', 'performance_id': 351},\n",
       " {'label': 'match', 'score_id': 'n351', 'performance_id': 348},\n",
       " {'label': 'match', 'score_id': 'n352', 'performance_id': 349},\n",
       " {'label': 'match', 'score_id': 'n353', 'performance_id': 353},\n",
       " {'label': 'match', 'score_id': 'n354', 'performance_id': 352},\n",
       " {'label': 'match', 'score_id': 'n355', 'performance_id': 354},\n",
       " {'label': 'deletion', 'score_id': 'n356'},\n",
       " {'label': 'match', 'score_id': 'n357', 'performance_id': 358},\n",
       " {'label': 'match', 'score_id': 'n358', 'performance_id': 355},\n",
       " {'label': 'deletion', 'score_id': 'n359'},\n",
       " {'label': 'match', 'score_id': 'n360', 'performance_id': 357},\n",
       " {'label': 'match', 'score_id': 'n361', 'performance_id': 356},\n",
       " {'label': 'match', 'score_id': 'n362', 'performance_id': 359},\n",
       " {'label': 'match', 'score_id': 'n363', 'performance_id': 364},\n",
       " {'label': 'match', 'score_id': 'n364', 'performance_id': 361},\n",
       " {'label': 'match', 'score_id': 'n365', 'performance_id': 360},\n",
       " {'label': 'match', 'score_id': 'n366', 'performance_id': 362},\n",
       " {'label': 'match', 'score_id': 'n367', 'performance_id': 363},\n",
       " {'label': 'match', 'score_id': 'n368', 'performance_id': 365},\n",
       " {'label': 'match', 'score_id': 'n369', 'performance_id': 367},\n",
       " {'label': 'match', 'score_id': 'n370', 'performance_id': 369},\n",
       " {'label': 'match', 'score_id': 'n371', 'performance_id': 368},\n",
       " {'label': 'match', 'score_id': 'n372', 'performance_id': 366},\n",
       " {'label': 'match', 'score_id': 'n373', 'performance_id': 370},\n",
       " {'label': 'match', 'score_id': 'n374', 'performance_id': 372},\n",
       " {'label': 'match', 'score_id': 'n375', 'performance_id': 371},\n",
       " {'label': 'match', 'score_id': 'n376', 'performance_id': 373},\n",
       " {'label': 'match', 'score_id': 'n377', 'performance_id': 378},\n",
       " {'label': 'match', 'score_id': 'n378', 'performance_id': 374},\n",
       " {'label': 'match', 'score_id': 'n379', 'performance_id': 375},\n",
       " {'label': 'match', 'score_id': 'n380', 'performance_id': 377},\n",
       " {'label': 'match', 'score_id': 'n381', 'performance_id': 379},\n",
       " {'label': 'match', 'score_id': 'n382', 'performance_id': 376},\n",
       " {'label': 'match', 'score_id': 'n383', 'performance_id': 380},\n",
       " {'label': 'match', 'score_id': 'n384', 'performance_id': 381},\n",
       " {'label': 'match', 'score_id': 'n385', 'performance_id': 382},\n",
       " {'label': 'match', 'score_id': 'n386', 'performance_id': 383},\n",
       " {'label': 'match', 'score_id': 'n387', 'performance_id': 384},\n",
       " {'label': 'match', 'score_id': 'n388', 'performance_id': 385},\n",
       " {'label': 'match', 'score_id': 'n389', 'performance_id': 386},\n",
       " {'label': 'match', 'score_id': 'n390', 'performance_id': 387},\n",
       " {'label': 'match', 'score_id': 'n391', 'performance_id': 388},\n",
       " {'label': 'match', 'score_id': 'n392', 'performance_id': 389},\n",
       " {'label': 'match', 'score_id': 'n393', 'performance_id': 390},\n",
       " {'label': 'match', 'score_id': 'n394', 'performance_id': 391},\n",
       " {'label': 'match', 'score_id': 'n395', 'performance_id': 392},\n",
       " {'label': 'match', 'score_id': 'n396', 'performance_id': 393},\n",
       " {'label': 'match', 'score_id': 'n397', 'performance_id': 394},\n",
       " {'label': 'match', 'score_id': 'n398', 'performance_id': 395},\n",
       " {'label': 'match', 'score_id': 'n399', 'performance_id': 396},\n",
       " {'label': 'match', 'score_id': 'n400', 'performance_id': 397},\n",
       " {'label': 'match', 'score_id': 'n401', 'performance_id': 398},\n",
       " {'label': 'match', 'score_id': 'n402', 'performance_id': 399},\n",
       " {'label': 'match', 'score_id': 'n403', 'performance_id': 400},\n",
       " {'label': 'match', 'score_id': 'n404', 'performance_id': 401},\n",
       " {'label': 'match', 'score_id': 'n405', 'performance_id': 402},\n",
       " {'label': 'match', 'score_id': 'n406', 'performance_id': 403},\n",
       " {'label': 'match', 'score_id': 'n407', 'performance_id': 404},\n",
       " {'label': 'match', 'score_id': 'n408', 'performance_id': 405},\n",
       " {'label': 'match', 'score_id': 'n409', 'performance_id': 406},\n",
       " {'label': 'match', 'score_id': 'n410', 'performance_id': 407},\n",
       " {'label': 'match', 'score_id': 'n411', 'performance_id': 408},\n",
       " {'label': 'match', 'score_id': 'n412', 'performance_id': 409},\n",
       " {'label': 'match', 'score_id': 'n413', 'performance_id': 410},\n",
       " {'label': 'match', 'score_id': 'n414', 'performance_id': 412},\n",
       " {'label': 'match', 'score_id': 'n415', 'performance_id': 411},\n",
       " {'label': 'match', 'score_id': 'n416', 'performance_id': 413},\n",
       " {'label': 'match', 'score_id': 'n417', 'performance_id': 414},\n",
       " {'label': 'match', 'score_id': 'n418', 'performance_id': 416},\n",
       " {'label': 'match', 'score_id': 'n419', 'performance_id': 415},\n",
       " {'label': 'match', 'score_id': 'n420', 'performance_id': 417},\n",
       " {'label': 'match', 'score_id': 'n421', 'performance_id': 418},\n",
       " {'label': 'match', 'score_id': 'n422', 'performance_id': 419},\n",
       " {'label': 'match', 'score_id': 'n423', 'performance_id': 421},\n",
       " {'label': 'match', 'score_id': 'n424', 'performance_id': 420},\n",
       " {'label': 'match', 'score_id': 'n425', 'performance_id': 423},\n",
       " {'label': 'match', 'score_id': 'n426', 'performance_id': 424},\n",
       " {'label': 'match', 'score_id': 'n427', 'performance_id': 422},\n",
       " {'label': 'match', 'score_id': 'n428', 'performance_id': 425},\n",
       " {'label': 'match', 'score_id': 'n429', 'performance_id': 427},\n",
       " {'label': 'match', 'score_id': 'n430', 'performance_id': 426},\n",
       " {'label': 'match', 'score_id': 'n431', 'performance_id': 428},\n",
       " {'label': 'match', 'score_id': 'n432', 'performance_id': 429},\n",
       " {'label': 'match', 'score_id': 'n433', 'performance_id': 430},\n",
       " {'label': 'match', 'score_id': 'n434', 'performance_id': 432},\n",
       " {'label': 'match', 'score_id': 'n435', 'performance_id': 431},\n",
       " {'label': 'match', 'score_id': 'n436', 'performance_id': 434},\n",
       " {'label': 'match', 'score_id': 'n437', 'performance_id': 433},\n",
       " {'label': 'match', 'score_id': 'n438', 'performance_id': 436},\n",
       " {'label': 'match', 'score_id': 'n439', 'performance_id': 435},\n",
       " {'label': 'match', 'score_id': 'n440', 'performance_id': 438},\n",
       " {'label': 'match', 'score_id': 'n441', 'performance_id': 437},\n",
       " {'label': 'match', 'score_id': 'n442', 'performance_id': 440},\n",
       " {'label': 'match', 'score_id': 'n443', 'performance_id': 439},\n",
       " {'label': 'match', 'score_id': 'n444', 'performance_id': 441},\n",
       " {'label': 'match', 'score_id': 'n445', 'performance_id': 442},\n",
       " {'label': 'match', 'score_id': 'n446', 'performance_id': 443},\n",
       " {'label': 'match', 'score_id': 'n447', 'performance_id': 444},\n",
       " {'label': 'match', 'score_id': 'n448', 'performance_id': 445},\n",
       " {'label': 'match', 'score_id': 'n449', 'performance_id': 446},\n",
       " {'label': 'match', 'score_id': 'n450', 'performance_id': 447},\n",
       " {'label': 'match', 'score_id': 'n451', 'performance_id': 450},\n",
       " {'label': 'match', 'score_id': 'n452', 'performance_id': 451},\n",
       " {'label': 'match', 'score_id': 'n453', 'performance_id': 449},\n",
       " {'label': 'deletion', 'score_id': 'n454'}]"
      ]
     },
     "execution_count": 59,
     "metadata": {},
     "output_type": "execute_result"
    }
   ],
   "source": [
    "alignment"
   ]
  },
  {
   "cell_type": "code",
   "execution_count": null,
   "metadata": {},
   "outputs": [],
   "source": []
  },
  {
   "cell_type": "markdown",
   "metadata": {},
   "source": [
    "## File export"
   ]
  },
  {
   "cell_type": "code",
   "execution_count": 51,
   "metadata": {},
   "outputs": [],
   "source": [
    "pt.save_musicxml(part, \"musicxml_out.xml\")"
   ]
  },
  {
   "cell_type": "code",
   "execution_count": 52,
   "metadata": {},
   "outputs": [],
   "source": [
    "pt.save_performance_midi(performedpart, \"midi_out.mid\")"
   ]
  },
  {
   "cell_type": "code",
   "execution_count": 53,
   "metadata": {},
   "outputs": [
    {
     "ename": "AttributeError",
     "evalue": "module 'partitura' has no attribute 'save_midi'",
     "output_type": "error",
     "traceback": [
      "\u001b[1;31m---------------------------------------------------------------------------\u001b[0m",
      "\u001b[1;31mAttributeError\u001b[0m                            Traceback (most recent call last)",
      "\u001b[1;32m<ipython-input-53-6b6b91a79c50>\u001b[0m in \u001b[0;36m<module>\u001b[1;34m\u001b[0m\n\u001b[1;32m----> 1\u001b[1;33m \u001b[0mpt\u001b[0m\u001b[1;33m.\u001b[0m\u001b[0msave_midi\u001b[0m\u001b[1;33m(\u001b[0m\u001b[0malignment\u001b[0m\u001b[1;33m,\u001b[0m \u001b[0mpart_m\u001b[0m\u001b[1;33m,\u001b[0m \u001b[0mperformedpart_m\u001b[0m\u001b[1;33m,\u001b[0m  \u001b[1;34m\"match_out.match\"\u001b[0m\u001b[1;33m)\u001b[0m\u001b[1;33m\u001b[0m\u001b[1;33m\u001b[0m\u001b[0m\n\u001b[0m",
      "\u001b[1;31mAttributeError\u001b[0m: module 'partitura' has no attribute 'save_midi'"
     ]
    }
   ],
   "source": [
    "pt.save_midi(alignment, part_m, performedpart_m,  \"match_out.match\")"
   ]
  },
  {
   "cell_type": "markdown",
   "metadata": {},
   "source": [
    "### excursion render to audio?"
   ]
  },
  {
   "cell_type": "code",
   "execution_count": null,
   "metadata": {},
   "outputs": [],
   "source": []
  },
  {
   "cell_type": "markdown",
   "metadata": {},
   "source": [
    "## A slightly more involved usage example"
   ]
  },
  {
   "cell_type": "code",
   "execution_count": 56,
   "metadata": {},
   "outputs": [
    {
     "ename": "ModuleNotFoundError",
     "evalue": "No module named 'basismixer'",
     "output_type": "error",
     "traceback": [
      "\u001b[1;31m---------------------------------------------------------------------------\u001b[0m",
      "\u001b[1;31mModuleNotFoundError\u001b[0m                       Traceback (most recent call last)",
      "\u001b[1;32m<ipython-input-56-468be16798fd>\u001b[0m in \u001b[0;36m<module>\u001b[1;34m\u001b[0m\n\u001b[1;32m----> 1\u001b[1;33m \u001b[1;32mfrom\u001b[0m \u001b[0mbasismixer\u001b[0m\u001b[1;33m.\u001b[0m\u001b[0mperformance_codec\u001b[0m \u001b[1;32mimport\u001b[0m \u001b[0mget_performance_codec\u001b[0m\u001b[1;33m\u001b[0m\u001b[1;33m\u001b[0m\u001b[0m\n\u001b[0m\u001b[0;32m      2\u001b[0m from basismixer.utils import (get_unique_onset_idxs,\n\u001b[0;32m      3\u001b[0m                               notewise_to_onsetwise)\n\u001b[0;32m      4\u001b[0m \u001b[1;33m\u001b[0m\u001b[0m\n\u001b[0;32m      5\u001b[0m \u001b[1;32mdef\u001b[0m \u001b[0mmatch2tempo\u001b[0m\u001b[1;33m(\u001b[0m\u001b[0mmatch_path\u001b[0m\u001b[1;33m)\u001b[0m\u001b[1;33m:\u001b[0m\u001b[1;33m\u001b[0m\u001b[1;33m\u001b[0m\u001b[0m\n",
      "\u001b[1;31mModuleNotFoundError\u001b[0m: No module named 'basismixer'"
     ]
    }
   ],
   "source": [
    "from basismixer.performance_codec import get_performance_codec\n",
    "from basismixer.utils import (get_unique_onset_idxs,\n",
    "                              notewise_to_onsetwise)\n",
    "\n",
    "def match2tempo(match_path):\n",
    "    \"\"\"\n",
    "    computes tempo curve from a match file.\n",
    "\n",
    "    Parameters\n",
    "    ----------\n",
    "    match_path : string\n",
    "        a path of a match file\n",
    "    \n",
    "    Returns\n",
    "    -------\n",
    "    tempo_curve_and_onsets : numpy array\n",
    "        score onsets and corresponding tempo curve stacked as columns\n",
    "    \"\"\"\n",
    "\n",
    "    ppart, alignment, part = pt.load_match(match_path, create_part=True)\n",
    "    all_targets = list(set(['beat_period']))\n",
    "    perf_codec = get_performance_codec(all_targets)\n",
    "    ppart.sustain_pedal_threshold = 128\n",
    "    targets, snote_ids, ux = perf_codec.encode(part, ppart, alignment, return_u_onset_idx=True)  \n",
    "  \n",
    "    nid_dict = dict((n.id, i) for i, n in enumerate(part.notes_tied))\n",
    "    matched_subset_idxs = np.array([nid_dict[nid] for nid in snote_ids])       \n",
    "\n",
    "    score_onsets = part.note_array[matched_subset_idxs]['onset_beat'] # changed from onset_beat\n",
    "    unique_onset_idxs, uni = get_unique_onset_idxs(score_onsets, return_unique_onsets=True)\n",
    "\n",
    "    tmp_crv = notewise_to_onsetwise(np.array([targets[\"beat_period\"]]).T, unique_onset_idxs)  \n",
    "    tempo_curve_and_onsets = np.column_stack((uni, tmp_crv))\n",
    "\n",
    "    return tempo_curve_and_onsets"
   ]
  },
  {
   "cell_type": "code",
   "execution_count": null,
   "metadata": {},
   "outputs": [],
   "source": []
  }
 ],
 "metadata": {
  "kernelspec": {
   "display_name": "Python 3",
   "language": "python",
   "name": "python3"
  },
  "language_info": {
   "codemirror_mode": {
    "name": "ipython",
    "version": 3
   },
   "file_extension": ".py",
   "mimetype": "text/x-python",
   "name": "python",
   "nbconvert_exporter": "python",
   "pygments_lexer": "ipython3",
   "version": "3.7.9"
  }
 },
 "nbformat": 4,
 "nbformat_minor": 4
}
