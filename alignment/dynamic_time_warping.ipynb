{
 "cells": [
  {
   "cell_type": "markdown",
   "metadata": {},
   "source": [
    "# Dynamic Time Warping\n",
    "\n",
    "Dynamic time warping (DWT) is a dynamic programming algorithm to find the **optimal** alignment between to time-dependent sequences.\n",
    "\n",
    "In this notebook we will explore how this algorithm works."
   ]
  },
  {
   "cell_type": "code",
   "execution_count": null,
   "metadata": {},
   "outputs": [],
   "source": [
    "import numpy as np\n",
    "from helper import generate_example_sequences\n",
    "import matplotlib.pyplot as plt\n",
    "from scipy.spatial.distance import cdist\n",
    "%matplotlib inline"
   ]
  },
  {
   "cell_type": "markdown",
   "metadata": {},
   "source": []
  },
  {
   "cell_type": "code",
   "execution_count": null,
   "metadata": {},
   "outputs": [],
   "source": [
    "# This is a helper method to generate sample sequences\n",
    "X, Y, gr_path = generate_example_sequences(10, noise_scale=0.1)\n",
    "\n",
    "\n",
    "vmax = max(max(abs(X.max()), abs(X.min())), max(abs(Y.max()), abs(Y.min())))\n",
    "fig, axes = plt.subplots(2, sharex=False)\n",
    "axes[0].imshow(X.T, cmap='gray', origin='lower', aspect='equal', interpolation=None, vmax=vmax, vmin=-vmax)\n",
    "axes[1].imshow(Y.T, cmap='gray', origin='lower', aspect='equal', interpolation=None, vmax=vmax, vmin=-vmax)\n",
    "axes[0].set_xlim((0, 20))\n",
    "axes[1].set_xlim((0, 20))"
   ]
  },
  {
   "cell_type": "code",
   "execution_count": null,
   "metadata": {},
   "outputs": [],
   "source": [
    "def pairwise_distance_matrix(X, Y, metric='euclidean'):\n",
    "    \"\"\"\n",
    "    Compute pairwise distance matrix of two sequences\n",
    "    \n",
    "    Parameters\n",
    "    ----------\n",
    "    X : np.ndarray\n",
    "        A 2D array with size (n_observations, n_features)\n",
    "    Y : np.ndarray\n",
    "        A 2D array with size (m_observations, n_features)\n",
    "    metric: str\n",
    "        A string defining a metric (see possibilities \n",
    "        in scipy.spatial.distance.cdist)\n",
    "\n",
    "    Returns\n",
    "    -------\n",
    "    D : np.ndarray\n",
    "        Pairwise cost matrix\n",
    "    \"\"\"\n",
    "    if X.ndim == 1:\n",
    "        X, Y = np.atleast_2d(X, Y)\n",
    "        X = X.T\n",
    "        Y = Y.T\n",
    "    C = cdist(X, Y, metric=metric)\n",
    "    return C\n",
    "\n",
    "C = pairwise_distance_matrix(X, Y, metric='euclidean')\n",
    "print(C.shape)"
   ]
  },
  {
   "cell_type": "code",
   "execution_count": null,
   "metadata": {},
   "outputs": [],
   "source": [
    "# Visualize cost matrix\n",
    "C = pairwise_distance_matrix(X, Y)\n",
    "plt.imshow(C, origin='lower', aspect='equal', cmap='gray')"
   ]
  },
  {
   "cell_type": "code",
   "execution_count": null,
   "metadata": {},
   "outputs": [],
   "source": [
    "def accumulated_cost_matrix(C):\n",
    "    \"\"\"\n",
    "    Dynamic time warping cost matrix from a pairwise distance matrix\n",
    "\n",
    "    Parameters\n",
    "    ----------\n",
    "    D : double array\n",
    "        Pairwise distance matrix (computed e.g., with `cdist`).\n",
    "\n",
    "    Returns\n",
    "    -------\n",
    "    D : np.ndarray\n",
    "        Accumulated cost matrix\n",
    "    \"\"\"\n",
    "    N = C.shape[0]\n",
    "    M = C.shape[1]\n",
    "    D = np.zeros((N, M))\n",
    "    D[0, 0] = C[0, 0]\n",
    "    for n in range(1, N):\n",
    "        D[n, 0] = D[n-1, 0] + C[n, 0]\n",
    "    for m in range(1, M):\n",
    "        D[0, m] = D[0, m-1] + C[0, m]\n",
    "    for n in range(1, N):\n",
    "        for m in range(1, M):\n",
    "            D[n, m] = C[n, m] + min(D[n-1, m], D[n, m-1], D[n-1, m-1])\n",
    "    return D\n",
    "\n",
    "D = accumulated_cost_matrix(C) \n",
    "\n",
    "# Visualize accumulated cost matrix\n",
    "plt.imshow(D, origin='lower', aspect='equal', cmap='gray')\n",
    "plt.xlabel('Sequence Y')\n",
    "plt.ylabel('Sequence X')"
   ]
  },
  {
   "cell_type": "code",
   "execution_count": null,
   "metadata": {},
   "outputs": [],
   "source": [
    "def optimal_warping_path(D):\n",
    "    \"\"\"\n",
    "    Compute the warping path given an accumulated cost matrix\n",
    "\n",
    "    Parameters\n",
    "    ----------\n",
    "    D: np.ndarray\n",
    "        Accumulated cost Matrix\n",
    "    \n",
    "    Returns\n",
    "    -------\n",
    "    P: np.ndarray\n",
    "        Optimal warping path\n",
    "    \"\"\"\n",
    "    N = D.shape[0]\n",
    "    M = D.shape[1]\n",
    "    n = N - 1\n",
    "    m = M - 1\n",
    "    P = [(n, m)]\n",
    "    while n > 0 or m > 0:\n",
    "        if n == 0:\n",
    "            cell = (0, m - 1)\n",
    "        elif m == 0:\n",
    "            cell = (n - 1, 0)\n",
    "        else:\n",
    "            val = min(D[n-1, m-1], D[n-1, m], D[n, m-1])\n",
    "            if val == D[n-1, m-1]:\n",
    "                cell = (n-1, m-1)\n",
    "            elif val == D[n-1, m]:\n",
    "                cell = (n-1, m)\n",
    "            else:\n",
    "                cell = (n, m-1)\n",
    "        P.append(cell)\n",
    "        (n, m) = cell\n",
    "    P.reverse()\n",
    "    return np.array(P)\n",
    "        \n",
    "P = optimal_warping_path(D)\n"
   ]
  },
  {
   "cell_type": "code",
   "execution_count": null,
   "metadata": {},
   "outputs": [],
   "source": [
    "plt.figure(figsize=(9, 3))\n",
    "plt.subplot(1, 2, 1)\n",
    "plt.imshow(C, cmap='gray_r', origin='lower', aspect='equal')\n",
    "plt.plot(P[:, 1], P[:, 0], marker='o', color='r')\n",
    "plt.clim([0, np.max(C)])\n",
    "plt.colorbar()\n",
    "plt.title('$C$ with optimal warping path')\n",
    "plt.xlabel('Sequence Y')\n",
    "plt.ylabel('Sequence X')\n",
    "\n",
    "plt.subplot(1, 2, 2)\n",
    "plt.imshow(D, cmap='gray_r', origin='lower', aspect='equal')\n",
    "plt.plot(P[:, 1], P[:, 0], marker='o', color='r')\n",
    "plt.clim([0, np.max(D)])\n",
    "plt.colorbar()\n",
    "plt.title('$D$ with optimal warping path')\n",
    "plt.xlabel('Sequence Y')\n",
    "plt.ylabel('Sequence X')\n",
    "\n",
    "plt.tight_layout()\n"
   ]
  },
  {
   "cell_type": "markdown",
   "metadata": {},
   "source": [
    "But of course, this is a very slow implementation of the algorithm!"
   ]
  }
 ],
 "metadata": {
  "kernelspec": {
   "display_name": "Python 3",
   "language": "python",
   "name": "python3"
  },
  "language_info": {
   "codemirror_mode": {
    "name": "ipython",
    "version": 3
   },
   "file_extension": ".py",
   "mimetype": "text/x-python",
   "name": "python",
   "nbconvert_exporter": "python",
   "pygments_lexer": "ipython3",
   "version": "3.7.9"
  }
 },
 "nbformat": 4,
 "nbformat_minor": 4
}
