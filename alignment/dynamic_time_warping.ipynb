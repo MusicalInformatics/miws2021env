{
 "cells": [
  {
   "cell_type": "markdown",
   "metadata": {},
   "source": [
    "# Dynamic Time Warping\n",
    "\n",
    "Dynamic time warping (DWT) is a dynamic programming algorithm to find the **optimal** alignment between to time-dependent sequences.\n",
    "\n",
    "In this notebook we will explore how this algorithm works."
   ]
  },
  {
   "cell_type": "code",
   "execution_count": 1,
   "metadata": {},
   "outputs": [],
   "source": [
    "import numpy as np\n",
    "from helper import generate_example_sequences\n",
    "import matplotlib.pyplot as plt\n",
    "from scipy.spatial.distance import cdist\n",
    "%matplotlib inline"
   ]
  },
  {
   "cell_type": "code",
   "execution_count": 2,
   "metadata": {},
   "outputs": [
    {
     "data": {
      "text/plain": [
       "(0.0, 20.0)"
      ]
     },
     "execution_count": 2,
     "metadata": {},
     "output_type": "execute_result"
    },
    {
     "data": {
      "image/png": "[encoded data removed]",
      "text/plain": [
       "<Figure size 432x288 with 2 Axes>"
      ]
     },
     "metadata": {
      "needs_background": "light"
     },
     "output_type": "display_data"
    }
   ],
   "source": [
    "X, Y, gr_path = generate_example_sequences(noise_scale=0.1)\n",
    "# Dataset\n",
    "\n",
    "vmax = max(max(abs(X.max()), abs(X.min())), max(abs(Y.max()), abs(Y.min())))\n",
    "fig, axes = plt.subplots(2, sharex=False)\n",
    "axes[0].imshow(X.T, cmap='gray', origin='lower', aspect='equal', interpolation=None, vmax=vmax, vmin=-vmax)\n",
    "axes[1].imshow(Y.T, cmap='gray', origin='lower', aspect='equal', interpolation=None, vmax=vmax, vmin=-vmax)\n",
    "axes[0].set_xlim((0, 20))\n",
    "axes[1].set_xlim((0, 20))"
   ]
  },
  {
   "cell_type": "code",
   "execution_count": 3,
   "metadata": {},
   "outputs": [
    {
     "ename": "NameError",
     "evalue": "name 'C' is not defined",
     "output_type": "error",
     "traceback": [
      "\u001b[0;31m---------------------------------------------------------------------------\u001b[0m",
      "\u001b[0;31mNameError\u001b[0m                                 Traceback (most recent call last)",
      "\u001b[0;32m<ipython-input-3-06d85db58f1e>\u001b[0m in \u001b[0;36m<module>\u001b[0;34m\u001b[0m\n\u001b[1;32m     25\u001b[0m     \u001b[0;32mreturn\u001b[0m \u001b[0mC\u001b[0m\u001b[0;34m\u001b[0m\u001b[0;34m\u001b[0m\u001b[0m\n\u001b[1;32m     26\u001b[0m \u001b[0;34m\u001b[0m\u001b[0m\n\u001b[0;32m---> 27\u001b[0;31m \u001b[0mprint\u001b[0m\u001b[0;34m(\u001b[0m\u001b[0mC\u001b[0m\u001b[0;34m.\u001b[0m\u001b[0mshape\u001b[0m\u001b[0;34m)\u001b[0m\u001b[0;34m\u001b[0m\u001b[0;34m\u001b[0m\u001b[0m\n\u001b[0m",
      "\u001b[0;31mNameError\u001b[0m: name 'C' is not defined"
     ]
    }
   ],
   "source": [
    "def pairwise_distance_matrix(X, Y, metric='euclidean'):\n",
    "    \"\"\"\n",
    "    Compute pairwise distance matrix of two sequences\n",
    "    \n",
    "    Parameters\n",
    "    ----------\n",
    "    X : np.ndarray\n",
    "        A 2D array with size (n_observations, n_features)\n",
    "    Y : np.ndarray\n",
    "        A 2D array with size (m_observations, n_features)\n",
    "    metric: str\n",
    "        A string defining a metric (see possibilities \n",
    "        in scipy.spatial.distance.cdist)\n",
    "\n",
    "    Returns\n",
    "    -------\n",
    "    D : np.ndarray\n",
    "        Pairwise cost matrix\n",
    "    \"\"\"\n",
    "    if X.ndim == 1:\n",
    "        X, Y = np.atleast_2d(X, Y)\n",
    "        X = X.T\n",
    "        Y = Y.T\n",
    "    C = cdist(X, Y, metric=metric)\n",
    "    return C\n",
    "\n",
    "C = \n",
    "print(C.shape)"
   ]
  },
  {
   "cell_type": "code",
   "execution_count": null,
   "metadata": {},
   "outputs": [],
   "source": [
    "# Visualize cost matrix\n",
    "# X = np.array([1, 3, 3, 8])\n",
    "# Y = np.array([2, 0, 0, 8, 7])\n",
    "\n",
    "C = pairwise_distance_matrix(X, Y)\n",
    "\n",
    "plt.imshow(C, origin='lower', aspect='equal')"
   ]
  },
  {
   "cell_type": "code",
   "execution_count": null,
   "metadata": {},
   "outputs": [],
   "source": [
    "def accumulated_cost_matrix(C):\n",
    "    \"\"\"\n",
    "    Dynamic time warping cost matrix from a pairwise distance matrix\n",
    "\n",
    "    Parameters\n",
    "    ----------\n",
    "    D : double array\n",
    "        Pairwise distance matrix (computed e.g., with `cdist`).\n",
    "\n",
    "    Returns\n",
    "    -------\n",
    "    D : np.ndarray\n",
    "        Accumulated cost matrix\n",
    "    \"\"\"\n",
    "    N = C.shape[0]\n",
    "    M = C.shape[1]\n",
    "    D = np.ones((N + 1, M + 1),\n",
    "                   dtype=float) * np.inf\n",
    "\n",
    "    # Compute the distance iteratively\n",
    "    D[0, 0] = 0\n",
    "    for i in range(1, N + 1):\n",
    "        for j in range(1, M + 1):\n",
    "            c = C[i - 1, j - 1]\n",
    "            insertion = D[i - 1, j]\n",
    "            deletion = D[i, j - 1]\n",
    "            match = D[i - 1, j - 1]\n",
    "            D[i, j] = c + min((insertion, deletion, match))\n",
    "    return D[1:, 1:]\n",
    "print(C.shape)\n",
    "D = accumulated_cost_matrix(C) \n",
    "print(D.shape)\n",
    "\n",
    "\n"
   ]
  },
  {
   "cell_type": "code",
   "execution_count": null,
   "metadata": {},
   "outputs": [],
   "source": [
    "def compute_optimal_warping_path(D):\n",
    "    \"\"\"Compute the warping path given an accumulated cost matrix\n",
    "\n",
    "    Notebook: C3/C3S2_DTWbasic.ipynb\n",
    "\n",
    "    Args:\n",
    "        D (np.ndarray): Accumulated cost matrix\n",
    "\n",
    "    Returns:\n",
    "        P (np.ndarray): Optimal warping path\n",
    "    \"\"\"\n",
    "    N = D.shape[0]\n",
    "    M = D.shape[1]\n",
    "    n = N - 1\n",
    "    m = M - 1\n",
    "    P = [(n, m)]\n",
    "    while n > 0 or m > 0:\n",
    "        if n == 0:\n",
    "            cell = (0, m - 1)\n",
    "        elif m == 0:\n",
    "            cell = (n - 1, 0)\n",
    "        else:\n",
    "            val = min(D[n-1, m-1], D[n-1, m], D[n, m-1])\n",
    "            if val == D[n-1, m-1]:\n",
    "                cell = (n-1, m-1)\n",
    "            elif val == D[n-1, m]:\n",
    "                cell = (n-1, m)\n",
    "            else:\n",
    "                cell = (n, m-1)\n",
    "        P.append(cell)\n",
    "        (n, m) = cell\n",
    "    P.reverse()\n",
    "    return np.array(P)\n",
    "        \n",
    "P = compute_optimal_warping_path(D)\n",
    "print('Optimal warping path P =', P.tolist())"
   ]
  }
 ],
 "metadata": {
  "kernelspec": {
   "display_name": "Python 3",
   "language": "python",
   "name": "python3"
  },
  "language_info": {
   "codemirror_mode": {
    "name": "ipython",
    "version": 3
   },
   "file_extension": ".py",
   "mimetype": "text/x-python",
   "name": "python",
   "nbconvert_exporter": "python",
   "pygments_lexer": "ipython3",
   "version": "3.7.9"
  }
 },
 "nbformat": 4,
 "nbformat_minor": 4
}
