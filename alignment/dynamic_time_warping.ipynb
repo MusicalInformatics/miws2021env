{
 "cells": [
  {
   "cell_type": "markdown",
   "metadata": {},
   "source": [
    "# Dynamic Time Warping\n",
    "\n",
    "(This notebook is based on the Python Notebooks from Meinard Müller's [Fundamentals of Music Processing](https://www.audiolabs-erlangen.de/resources/MIR/FMP/C0/C0.html) book.)\n",
    "\n",
    "Dynamic time warping (DWT) is a dynamic programming algorithm to find the **optimal** alignment between to time-dependent sequences.\n",
    "\n",
    "In this notebook we will explore how this algorithm works.\n",
    "\n",
    "## Features, Feature Spaces\n",
    "\n",
    "Let us consider two $\\mathbf{X} = \\{\\mathbf{x}_1, \\dots \\mathbf{x}_N\\}$ and $\\mathbf{Y} = \\{\\mathbf{y}_1, \\dots, \\mathbf{y}_M\\}$ for which we want to find an aligment.\n",
    "\n",
    "* This sequences could be discrete signals, feature sequences, sequences of characters, etc.\n",
    "\n",
    "* The elements $\\mathbf{x}_n$, $\\mathbf{y}_m$ belong to the same **feature space** $\\mathcal{F}$. For the purposes of this class, let us consider these elements as $K$-dimensional real-vectors, i.e., $\\mathbf{x}, \\mathbf{y} \\in \\mathbb{R}^K$ although they can other kind of objects (e.g., characters in an alphabet).\n",
    "\n",
    "An important aspect of this feature space is that it allows us to use *quantitive measures* of how similar the elements of sequence $\\mathbf{X}$ are to the elements in sequence $\\mathbf{Y}$. We will come to this point in a moment.\n",
    "\n",
    "For now, let us generate some test data that we can play with!"
   ]
  },
  {
   "cell_type": "code",
   "execution_count": 1,
   "metadata": {},
   "outputs": [],
   "source": [
    "import numpy as np\n",
    "from helper import generate_example_sequences\n",
    "import matplotlib.pyplot as plt\n",
    "from scipy.spatial.distance import cdist\n"
   ]
  },
  {
   "cell_type": "code",
   "execution_count": 2,
   "metadata": {},
   "outputs": [
    {
     "data": {
      "text/plain": [
       "(0.0, 33.0)"
      ]
     },
     "execution_count": 2,
     "metadata": {},
     "output_type": "execute_result"
    },
    {
     "data": {
      "image/png": "[encoded data removed]",
      "text/plain": [
       "<Figure size 432x288 with 2 Axes>"
      ]
     },
     "metadata": {
      "needs_background": "light"
     },
     "output_type": "display_data"
    }
   ],
   "source": [
    "# This is a helper method to generate sample sequences \n",
    "# (see helper.py for documentation)\n",
    "\n",
    "lenX = 15\n",
    "X, Y, gr_path = generate_example_sequences(lenX=lenX, centers=3, n_features=5,\n",
    "                               maxreps=4, minreps=1, noise_scale=0.1)\n",
    "\n",
    "# Let us plot the data to see how it looks like!\n",
    "vmax = max(max(abs(X.max()), abs(X.min())), max(abs(Y.max()), abs(Y.min())))\n",
    "fig, axes = plt.subplots(2, sharex=True)\n",
    "axes[0].imshow(X.T, cmap='gray', origin='lower', \n",
    "               aspect='equal', interpolation=None, \n",
    "               vmax=vmax, vmin=-vmax)\n",
    "axes[0].set_title(\"sequence $X$\")\n",
    "axes[1].imshow(Y.T, cmap='gray', origin='lower', aspect='equal', \n",
    "               interpolation=None, vmax=vmax, vmin=-vmax)\n",
    "axes[1].set_title(\"sequence $Y$\")\n",
    "axes[0].set_xlim((0, len(Y)))\n",
    "axes[1].set_xlim((0, len(Y)))"
   ]
  },
  {
   "cell_type": "markdown",
   "metadata": {},
   "source": [
    "## Comparing the similarity of the features: Local cost distance\n",
    "\n",
    "As mentioned before, we would like to know how to compare the elements in $\\mathbf{X}$ and $\\mathbf{Y}$. For this we use a local distance function, which can be any distance(-like) function that is small when $\\mathbf{x}_i$ is *similar* to $\\mathbf{y}_j$.\n",
    "\n",
    "Which distance to use depends on the problem at hand, although usual starting points are the Euclidean and the Manhattan ($L_1$) distances.\n",
    "\n",
    "Using this local distance, we can compare the elements in both sequences by comparing the pairwise distance of all elements in $\\mathbf{X}$ and $\\mathbf{Y}$. This will result in a matrix $\\mathbf{C}$, where the element $c_{ij}$ is given by\n",
    "\n",
    "$$c_{ij} = \\text{distance}(\\mathbf{x}_i, \\mathbf{y}_j)$$"
   ]
  },
  {
   "cell_type": "code",
   "execution_count": 3,
   "metadata": {},
   "outputs": [],
   "source": [
    "def pairwise_distance_matrix(X, Y, metric='euclidean'):\n",
    "    \"\"\"\n",
    "    Compute pairwise distance matrix of two sequences\n",
    "    \n",
    "    Parameters\n",
    "    ----------\n",
    "    X : np.ndarray\n",
    "        A 2D array with size (n_observations, n_features)\n",
    "    Y : np.ndarray\n",
    "        A 2D array with size (m_observations, n_features)\n",
    "    metric: str\n",
    "        A string defining a metric (see possibilities \n",
    "        in scipy.spatial.distance.cdist)\n",
    "\n",
    "    Returns\n",
    "    -------\n",
    "    C : np.ndarray\n",
    "        Pairwise cost matrix\n",
    "    \"\"\"\n",
    "    if X.ndim == 1:\n",
    "        X, Y = np.atleast_2d(X, Y)\n",
    "        X = X.T\n",
    "        Y = Y.T\n",
    "    C = cdist(X, Y, metric=metric)\n",
    "    return C"
   ]
  },
  {
   "cell_type": "code",
   "execution_count": 4,
   "metadata": {},
   "outputs": [
    {
     "data": {
      "text/plain": [
       "Text(0, 0.5, 'Sequence X')"
      ]
     },
     "execution_count": 4,
     "metadata": {},
     "output_type": "execute_result"
    },
    {
     "data": {
      "image/png": "[encoded data removed]",
      "text/plain": [
       "<Figure size 432x288 with 1 Axes>"
      ]
     },
     "metadata": {
      "needs_background": "light"
     },
     "output_type": "display_data"
    }
   ],
   "source": [
    "# Visualize cost matrix\n",
    "C = pairwise_distance_matrix(X, Y)\n",
    "plt.imshow(C, origin='lower', aspect='equal', cmap='gray')\n",
    "plt.xlabel('Sequence Y')\n",
    "plt.ylabel('Sequence X')"
   ]
  },
  {
   "cell_type": "code",
   "execution_count": 5,
   "metadata": {},
   "outputs": [
    {
     "data": {
      "text/plain": [
       "Text(0, 0.5, 'Sequence X')"
      ]
     },
     "execution_count": 5,
     "metadata": {},
     "output_type": "execute_result"
    },
    {
     "data": {
      "image/png": "[encoded data removed]",
      "text/plain": [
       "<Figure size 432x288 with 1 Axes>"
      ]
     },
     "metadata": {
      "needs_background": "light"
     },
     "output_type": "display_data"
    }
   ],
   "source": [
    "def accumulated_cost_matrix(C):\n",
    "    \"\"\"\n",
    "    Dynamic time warping cost matrix from a pairwise distance matrix\n",
    "\n",
    "    Parameters\n",
    "    ----------\n",
    "    D : double array\n",
    "        Pairwise distance matrix (computed e.g., with `cdist`).\n",
    "\n",
    "    Returns\n",
    "    -------\n",
    "    D : np.ndarray\n",
    "        Accumulated cost matrix\n",
    "    \"\"\"\n",
    "    N = C.shape[0]\n",
    "    M = C.shape[1]\n",
    "    D = np.zeros((N, M))\n",
    "    D[0, 0] = C[0, 0]\n",
    "    for n in range(1, N):\n",
    "        D[n, 0] = D[n-1, 0] + C[n, 0]\n",
    "    for m in range(1, M):\n",
    "        D[0, m] = D[0, m-1] + C[0, m]\n",
    "    for n in range(1, N):\n",
    "        for m in range(1, M):\n",
    "            D[n, m] = C[n, m] + min(D[n-1, m], D[n, m-1], D[n-1, m-1])\n",
    "    return D\n",
    "\n",
    "D = accumulated_cost_matrix(C) \n",
    "\n",
    "# Visualize accumulated cost matrix\n",
    "plt.imshow(D, origin='lower', aspect='equal', cmap='gray')\n",
    "plt.xlabel('Sequence Y')\n",
    "plt.ylabel('Sequence X')"
   ]
  },
  {
   "cell_type": "code",
   "execution_count": 6,
   "metadata": {},
   "outputs": [],
   "source": [
    "def optimal_warping_path(D):\n",
    "    \"\"\"\n",
    "    Compute the warping path given an accumulated cost matrix\n",
    "\n",
    "    Parameters\n",
    "    ----------\n",
    "    D: np.ndarray\n",
    "        Accumulated cost Matrix\n",
    "    \n",
    "    Returns\n",
    "    -------\n",
    "    P: np.ndarray\n",
    "        Optimal warping path\n",
    "    \"\"\"\n",
    "    N = D.shape[0]\n",
    "    M = D.shape[1]\n",
    "    n = N - 1\n",
    "    m = M - 1\n",
    "    P = [(n, m)]\n",
    "    while n > 0 or m > 0:\n",
    "        if n == 0:\n",
    "            cell = (0, m - 1)\n",
    "        elif m == 0:\n",
    "            cell = (n - 1, 0)\n",
    "        else:\n",
    "            val = min(D[n-1, m-1], D[n-1, m], D[n, m-1])\n",
    "            if val == D[n-1, m-1]:\n",
    "                cell = (n-1, m-1)\n",
    "            elif val == D[n-1, m]:\n",
    "                cell = (n-1, m)\n",
    "            else:\n",
    "                cell = (n, m-1)\n",
    "        P.append(cell)\n",
    "        (n, m) = cell\n",
    "    P.reverse()\n",
    "    return np.array(P)\n",
    "        \n",
    "P = optimal_warping_path(D)\n"
   ]
  },
  {
   "cell_type": "code",
   "execution_count": 7,
   "metadata": {},
   "outputs": [
    {
     "data": {
      "image/png": "[encoded data removed]",
      "text/plain": [
       "<Figure size 648x216 with 4 Axes>"
      ]
     },
     "metadata": {
      "needs_background": "light"
     },
     "output_type": "display_data"
    }
   ],
   "source": [
    "plt.figure(figsize=(9, 3))\n",
    "plt.subplot(1, 2, 1)\n",
    "plt.imshow(C, cmap='gray_r', origin='lower', aspect='equal')\n",
    "plt.plot(P[:, 1], P[:, 0], marker='o', color='r')\n",
    "plt.clim([0, np.max(C)])\n",
    "plt.colorbar()\n",
    "plt.title('$C$ with optimal warping path')\n",
    "plt.xlabel('Sequence Y')\n",
    "plt.ylabel('Sequence X')\n",
    "\n",
    "plt.subplot(1, 2, 2)\n",
    "plt.imshow(D, cmap='gray_r', origin='lower', aspect='equal')\n",
    "plt.plot(P[:, 1], P[:, 0], marker='o', color='r')\n",
    "plt.plot(gr_path[:, 1], gr_path[:, 0], marker='d', color='purple', linewidth=1.1)\n",
    "plt.clim([0, np.max(D)])\n",
    "plt.colorbar()\n",
    "plt.title('$D$ with optimal warping path')\n",
    "plt.xlabel('Sequence Y')\n",
    "plt.ylabel('Sequence X')\n",
    "\n",
    "plt.tight_layout()\n"
   ]
  },
  {
   "cell_type": "markdown",
   "metadata": {},
   "source": [
    "But of course, this is a very slow implementation of the algorithm!\n",
    "\n",
    "Let's put everything together into a single function"
   ]
  },
  {
   "cell_type": "code",
   "execution_count": 8,
   "metadata": {},
   "outputs": [],
   "source": [
    "def dynamic_time_warping(X, Y, metric='euclidean'):\n",
    "    \"\"\"\n",
    "    Naive Implementation of Vanilla Dynamic Time Warping\n",
    "    \n",
    "    Parameters\n",
    "    ----------\n",
    "    X : np.ndarray\n",
    "        Array X\n",
    "    Y: np.ndarray\n",
    "        Array Y\n",
    "    metric: string\n",
    "        Scipy Metric\n",
    "    \"\"\"\n",
    "    # Compute pairwise distance matrix\n",
    "    C = pairwise_distance_matrix(X, Y, metric=metric)\n",
    "    # Compute accumulated cost matrix\n",
    "    D = accumulated_cost_matrix(C)\n",
    "    dtwd = D[-1, -1]\n",
    "    warping_path = optimal_warping_path(D)\n",
    "    return warping_path, dtwd"
   ]
  },
  {
   "cell_type": "markdown",
   "metadata": {},
   "source": [
    "For reference, in `dtw.py` there is a faster implementation of DTW using Cython."
   ]
  },
  {
   "cell_type": "code",
   "execution_count": null,
   "metadata": {},
   "outputs": [],
   "source": [
    "from dtw import dynamic_time_warping as cy_dtw\n",
    "import time\n",
    "\n",
    "def time_function(func, **kwargs):\n",
    "    start = time.time()\n",
    "    output = func(**kwargs)\n",
    "    return time.time() - start, output\n",
    "\n",
    "n_comparisons = 1\n",
    "time_comparison = np.zeros((n_comparisons, 2))\n",
    "for i in range(n_comparisons):\n",
    "    X, Y, _ = generate_example_sequences(50)\n",
    "    kwargs = dict(X=X, Y=Y)\n",
    "    print(X.shape, Y.shape)\n",
    "    time_naive_dtw, (n_path, n_dtwd) = time_function(dynamic_time_warping, **kwargs)\n",
    "    #time_cy_dtw, (c_path, c_dtwd) = time_function(cy_dtw, **kwargs)\n",
    "    \n",
    "    #time_comparison[i] = (time_naive_dtw, time_cy_dtw)\n",
    "    #assert(c_dtwd == n_dtwd)\n",
    "    \n",
    "#print(f\"Average Time naive DTW: {time_comparison[:, 0].mean():.4f}\")\n",
    "#print(f\"Average Time cython DTW: {time_comparison[:, 1].mean():.4f}!\")\n"
   ]
  },
  {
   "cell_type": "code",
   "execution_count": null,
   "metadata": {},
   "outputs": [],
   "source": [
    "from dtw import dynamic_time_warping as cy_dtw\n",
    "cy_dtw(np.random.rand(100,1), np.random.rand(105,1))\n"
   ]
  },
  {
   "cell_type": "code",
   "execution_count": null,
   "metadata": {},
   "outputs": [],
   "source": []
  }
 ],
 "metadata": {
  "kernelspec": {
   "display_name": "Python 3",
   "language": "python",
   "name": "python3"
  },
  "language_info": {
   "codemirror_mode": {
    "name": "ipython",
    "version": 3
   },
   "file_extension": ".py",
   "mimetype": "text/x-python",
   "name": "python",
   "nbconvert_exporter": "python",
   "pygments_lexer": "ipython3",
   "version": "3.7.9"
  }
 },
 "nbformat": 4,
 "nbformat_minor": 4
}
