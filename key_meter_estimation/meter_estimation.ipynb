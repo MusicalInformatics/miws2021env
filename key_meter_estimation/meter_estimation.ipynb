{
 "cells": [
  {
   "cell_type": "markdown",
   "metadata": {},
   "source": [
    "# Meter estimation on symbolic data\n",
    "\n",
    "Meter, time signature, beat, downbeat, and tempo estimation form a group of related tasks. At first glance, many of them might seem trivial on symbolic music, after all the precise onsets of notes are known from the MIDI data. But with changing tempi and unknown measures it can be quite challenging. "
   ]
  },
  {
   "cell_type": "code",
   "execution_count": 55,
   "metadata": {},
   "outputs": [],
   "source": [
    "import partitura as pt\n",
    "import os\n",
    "import matplotlib.pyplot as plt\n",
    "import numpy as np\n",
    "%matplotlib inline"
   ]
  },
  {
   "cell_type": "code",
   "execution_count": 56,
   "metadata": {},
   "outputs": [],
   "source": [
    "path_to_midi = os.path.join(\"..\",\"introduction\",\"example_data\",\"Chopin_op10_no3_p01.mid\")\n",
    "ppart = pt.load_performance_midi(path_to_midi)"
   ]
  },
  {
   "cell_type": "code",
   "execution_count": 57,
   "metadata": {},
   "outputs": [],
   "source": [
    "note_array = ppart.note_array"
   ]
  },
  {
   "cell_type": "code",
   "execution_count": 58,
   "metadata": {},
   "outputs": [],
   "source": [
    "IOIs = np.diff(np.sort(note_array[\"onset_sec\"]))"
   ]
  },
  {
   "cell_type": "code",
   "execution_count": 59,
   "metadata": {},
   "outputs": [
    {
     "data": {
      "text/plain": [
       "(array([119.,  79.,  38.,  22.,  17.,   5.,   4.,   3.,   1.,   0.,   0.,\n",
       "          0.,   0.,   0.,   0.,   0.,   0.,   1.,   0.,   0.,   0.,   0.,\n",
       "          0.,   0.,   1.,   0.,   1.,   1.,   0.,   0.,   0.,   0.,   0.,\n",
       "          0.,   0.,   0.,   0.,   3.,   5.,   5.,   5.,   6.,  16.,   9.,\n",
       "         10.,   9.,  10.,   5.,  10.,  10.,   5.,   5.,   6.,   3.,   3.,\n",
       "          5.,   3.,   1.,   5.,   2.,   1.,   1.,   1.,   2.,   1.,   4.,\n",
       "          0.,   1.,   0.,   2.,   0.,   0.,   0.,   1.,   0.,   0.,   1.,\n",
       "          1.,   1.,   0.,   0.,   0.,   0.,   0.,   0.,   0.,   0.,   0.,\n",
       "          0.,   0.,   0.,   0.,   0.,   0.,   0.,   0.,   0.,   0.,   0.,\n",
       "          1.]),\n",
       " array([0.        , 0.00967499, 0.01934998, 0.02902496, 0.03869995,\n",
       "        0.04837494, 0.05804993, 0.06772491, 0.0773999 , 0.08707489,\n",
       "        0.09674988, 0.10642487, 0.11609986, 0.12577485, 0.13544983,\n",
       "        0.14512482, 0.1547998 , 0.16447479, 0.17414978, 0.18382476,\n",
       "        0.19349976, 0.20317474, 0.21284974, 0.22252472, 0.23219971,\n",
       "        0.2418747 , 0.2515497 , 0.26122466, 0.27089965, 0.28057465,\n",
       "        0.29024965, 0.2999246 , 0.3095996 , 0.3192746 , 0.32894957,\n",
       "        0.33862457, 0.34829956, 0.35797456, 0.36764953, 0.37732452,\n",
       "        0.38699952, 0.3966745 , 0.40634948, 0.41602448, 0.42569947,\n",
       "        0.43537444, 0.44504943, 0.45472443, 0.46439943, 0.4740744 ,\n",
       "        0.4837494 , 0.4934244 , 0.5030994 , 0.51277435, 0.5224493 ,\n",
       "        0.53212434, 0.5417993 , 0.55147433, 0.5611493 , 0.57082427,\n",
       "        0.5804993 , 0.59017426, 0.5998492 , 0.60952425, 0.6191992 ,\n",
       "        0.6288742 , 0.6385492 , 0.6482242 , 0.65789914, 0.66757417,\n",
       "        0.67724913, 0.68692416, 0.6965991 , 0.7062741 , 0.7159491 ,\n",
       "        0.7256241 , 0.73529905, 0.7449741 , 0.75464904, 0.764324  ,\n",
       "        0.77399904, 0.783674  , 0.793349  , 0.803024  , 0.81269896,\n",
       "        0.822374  , 0.83204895, 0.8417239 , 0.85139894, 0.8610739 ,\n",
       "        0.8707489 , 0.8804239 , 0.89009887, 0.89977384, 0.90944886,\n",
       "        0.9191238 , 0.92879885, 0.9384738 , 0.9481488 , 0.9578238 ,\n",
       "        0.9674988 ], dtype=float32),\n",
       " <BarContainer object of 100 artists>)"
      ]
     },
     "execution_count": 59,
     "metadata": {},
     "output_type": "execute_result"
    },
    {
     "data": {
      "image/png": "[encoded data removed]",
      "text/plain": [
       "<Figure size 432x288 with 1 Axes>"
      ]
     },
     "metadata": {
      "needs_background": "light"
     },
     "output_type": "display_data"
    }
   ],
   "source": [
    "plt.hist(IOIs, bins = 100)"
   ]
  },
  {
   "cell_type": "code",
   "execution_count": 60,
   "metadata": {},
   "outputs": [
    {
     "data": {
      "text/plain": [
       "[<matplotlib.lines.Line2D at 0x25c36fa5460>]"
      ]
     },
     "execution_count": 60,
     "metadata": {},
     "output_type": "execute_result"
    },
    {
     "data": {
      "image/png": "[encoded data removed]",
      "text/plain": [
       "<Figure size 432x288 with 1 Axes>"
      ]
     },
     "metadata": {
      "needs_background": "light"
     },
     "output_type": "display_data"
    }
   ],
   "source": [
    "# convert the measured onsets to a framed unidimensional signal that \n",
    "#contains the number of onsets in a performance in a small window in time, e.g. 20 ms \n",
    "\n",
    "FRAMERATE = 50\n",
    "\n",
    "onset_min = note_array[\"onset_sec\"].min()\n",
    "onset_max = note_array[\"onset_sec\"].max()\n",
    "\n",
    "onset_duration = onset_max - onset_min\n",
    "frames = np.zeros(int(onset_duration*FRAMERATE)+1)\n",
    "for note in note_array:\n",
    "    frames[int((note[\"onset_sec\"]-onset_min)*FRAMERATE)] += 1\n",
    "    \n",
    "plt.plot(frames)"
   ]
  },
  {
   "cell_type": "code",
   "execution_count": 61,
   "metadata": {},
   "outputs": [
    {
     "data": {
      "text/plain": [
       "[<matplotlib.lines.Line2D at 0x25c36ccc250>]"
      ]
     },
     "execution_count": 61,
     "metadata": {},
     "output_type": "execute_result"
    },
    {
     "data": {
      "image/png": "[encoded data removed]",
      "text/plain": [
       "<Figure size 432x288 with 1 Axes>"
      ]
     },
     "metadata": {
      "needs_background": "light"
     },
     "output_type": "display_data"
    }
   ],
   "source": [
    "# a differenct frame generation process\n",
    "aggregated_notes = [(0,0)]\n",
    "CHORD_SPREAD_TIME = 1/12 # a little faster than 16th notes at 180 bpm\n",
    "for note in ppart.notes:\n",
    "    prev_note_on = aggregated_notes[-1][0]\n",
    "    note_on = note[\"note_on\"]\n",
    "    prev_note_vel = aggregated_notes[-1][1]\n",
    "    if abs(note_on - prev_note_on) < CHORD_SPREAD_TIME:\n",
    "        aggregated_notes[-1] = (note_on, prev_note_vel + 1) #note[\"velocity\"]\n",
    "        \n",
    "    else:\n",
    "        aggregated_notes.append((note_on, 1))\n",
    "    \n",
    "frames_a = np.zeros(int(onset_duration*FRAMERATE)+1)\n",
    "for note in aggregated_notes:\n",
    "    frames_a[int((note[0]-onset_min)*FRAMERATE)] += note[1]\n",
    "    \n",
    "frames_a[frames_a < 2.1] = 0.0\n",
    "    \n",
    "plt.plot(frames_a[:600])"
   ]
  },
  {
   "cell_type": "code",
   "execution_count": 62,
   "metadata": {},
   "outputs": [],
   "source": [
    "# for possible tempi compute autocorrelation \n",
    "\n",
    "autocorr = np.zeros((2*FRAMERATE,frames.shape[0])  )\n",
    "\n",
    "for framediff in range(1, 2*FRAMERATE+1):\n",
    "    autocorr[framediff-1,framediff:] = frames_a[framediff:]*frames_a[:-framediff]"
   ]
  },
  {
   "cell_type": "code",
   "execution_count": 63,
   "metadata": {},
   "outputs": [
    {
     "data": {
      "text/plain": [
       "[<matplotlib.lines.Line2D at 0x25c36d23c40>]"
      ]
     },
     "execution_count": 63,
     "metadata": {},
     "output_type": "execute_result"
    },
    {
     "data": {
      "image/png": "[encoded data removed]",
      "text/plain": [
       "<Figure size 432x288 with 1 Axes>"
      ]
     },
     "metadata": {
      "needs_background": "light"
     },
     "output_type": "display_data"
    }
   ],
   "source": [
    "plt.plot(np.sum(autocorr, axis = 1))"
   ]
  },
  {
   "cell_type": "code",
   "execution_count": 64,
   "metadata": {},
   "outputs": [
    {
     "name": "stdout",
     "output_type": "stream",
     "text": [
      "136.36363636363637\n"
     ]
    }
   ],
   "source": [
    "# how to interpret these dimensions?\n",
    "# nomber of frames between onsets is inversely proportional to the tempo of the onsets!\n",
    "\n",
    "#from scipy.signals import find_peaks\n",
    "#a = find_peaks(np.sum(autocorr, axis = 1))\n",
    "m = np.argmax(np.sum(autocorr, axis = 1))\n",
    "print(FRAMERATE/(m+1)*60)"
   ]
  },
  {
   "cell_type": "code",
   "execution_count": 65,
   "metadata": {},
   "outputs": [],
   "source": [
    "HOPSIZE = 20\n",
    "WINDOWSIZE = 200\n",
    "number_of_windows = int((autocorr.shape[1]-WINDOWSIZE)/HOPSIZE)\n",
    "\n",
    "local_autocorr = np.zeros((autocorr.shape[0],number_of_windows))\n",
    "\n",
    "for k in range(number_of_windows):\n",
    "    local_autocorr[:,k] = np.sum(autocorr[:,k*HOPSIZE:k*HOPSIZE+WINDOWSIZE]\n",
    ", axis = 1)    "
   ]
  },
  {
   "cell_type": "code",
   "execution_count": 66,
   "metadata": {},
   "outputs": [
    {
     "data": {
      "text/plain": [
       "<matplotlib.image.AxesImage at 0x25c3819f220>"
      ]
     },
     "execution_count": 66,
     "metadata": {},
     "output_type": "execute_result"
    },
    {
     "data": {
      "image/png": "[encoded data removed]",
      "text/plain": [
       "<Figure size 432x288 with 1 Axes>"
      ]
     },
     "metadata": {
      "needs_background": "light"
     },
     "output_type": "display_data"
    }
   ],
   "source": [
    "plt.imshow(local_autocorr*10, aspect=\"auto\")"
   ]
  },
  {
   "cell_type": "code",
   "execution_count": null,
   "metadata": {},
   "outputs": [],
   "source": []
  },
  {
   "cell_type": "code",
   "execution_count": null,
   "metadata": {},
   "outputs": [],
   "source": []
  }
 ],
 "metadata": {
  "kernelspec": {
   "display_name": "Python 3",
   "language": "python",
   "name": "python3"
  },
  "language_info": {
   "codemirror_mode": {
    "name": "ipython",
    "version": 3
   },
   "file_extension": ".py",
   "mimetype": "text/x-python",
   "name": "python",
   "nbconvert_exporter": "python",
   "pygments_lexer": "ipython3",
   "version": "3.8.5"
  }
 },
 "nbformat": 4,
 "nbformat_minor": 4
}
