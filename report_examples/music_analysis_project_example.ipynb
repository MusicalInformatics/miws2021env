{
 "cells": [
  {
   "cell_type": "markdown",
   "id": "employed-annex",
   "metadata": {},
   "source": [
    "# Project in Music Analysis\n",
    "\n",
    "This is just a possible template for the project reports for the Music Analysis Project.\n",
    "Be creative and use interactive plots/images/visualizations, etc.\n",
    "\n",
    "## Alignment\n",
    "\n",
    "Describe your approach to alignment here!\n",
    "\n",
    "### Features\n",
    "\n",
    "Which features did you use? (e.g., piano rolls), what was the motivation/intuition behind them. If you trained a model, how was it trained\n"
   ]
  },
  {
   "cell_type": "code",
   "execution_count": 1,
   "id": "eastern-brooks",
   "metadata": {},
   "outputs": [],
   "source": [
    "# Code for computing the features\n",
    "import numpy as np\n",
    "import partitura\n",
    "import matplotlib.pyplot as plt"
   ]
  },
  {
   "cell_type": "markdown",
   "id": "constitutional-promise",
   "metadata": {},
   "source": [
    "### Alignment Method (e.g., DTW)\n",
    "\n",
    "Which method did you use? For example, if you use DTW, which local cost function did you use? did you constrain the path in any way? did you explore alternative step sizes?"
   ]
  },
  {
   "cell_type": "code",
   "execution_count": 2,
   "id": "nasty-battery",
   "metadata": {},
   "outputs": [],
   "source": [
    "# Code for computing features\n",
    "# To keep things simple, you can use helper functions, in particular\n",
    "# the scripts that you used for the challenge!\n",
    "# The point here is to illustrate how do this methods work\n"
   ]
  },
  {
   "cell_type": "markdown",
   "id": "painful-hamilton",
   "metadata": {},
   "source": [
    "### Evaluation\n",
    "\n",
    "* If you did some training, how did you select the data/pieces to train/test/validation\n",
    "\n",
    "* Some analysis of the errors using metrics like F-score, confusion matrices, etc."
   ]
  },
  {
   "cell_type": "code",
   "execution_count": 3,
   "id": "agricultural-indianapolis",
   "metadata": {},
   "outputs": [],
   "source": [
    "# Code for computing the evaluation"
   ]
  },
  {
   "cell_type": "markdown",
   "id": "occupied-child",
   "metadata": {},
   "source": [
    "## Key Estimation\n",
    "\n",
    "### Features\n",
    "\n",
    "### Key Estimation Method\n",
    "\n",
    "### Evaluation"
   ]
  },
  {
   "cell_type": "markdown",
   "id": "sunset-shift",
   "metadata": {},
   "source": [
    "## Meter Estimation\n",
    "\n",
    "### Features\n",
    "\n",
    "### Key Estimation Method\n",
    "\n",
    "### Evaluation"
   ]
  },
  {
   "cell_type": "markdown",
   "id": "naked-proof",
   "metadata": {},
   "source": [
    "## References\n",
    "\n",
    "Cite relevant work that you used (and add links if possible!)\n",
    "\n",
    "[1] U. Author1, B. Author2, C. Author3  (2049) Obscure Paper Title. Even More Obscure Journal/Conference Proceedings. Address"
   ]
  }
 ],
 "metadata": {
  "kernelspec": {
   "display_name": "Python 3",
   "language": "python",
   "name": "python3"
  },
  "language_info": {
   "codemirror_mode": {
    "name": "ipython",
    "version": 3
   },
   "file_extension": ".py",
   "mimetype": "text/x-python",
   "name": "python",
   "nbconvert_exporter": "python",
   "pygments_lexer": "ipython3",
   "version": "3.7.10"
  }
 },
 "nbformat": 4,
 "nbformat_minor": 5
}
