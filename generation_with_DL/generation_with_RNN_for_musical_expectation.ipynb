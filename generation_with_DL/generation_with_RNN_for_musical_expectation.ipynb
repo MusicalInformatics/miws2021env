{
 "cells": [
  {
   "cell_type": "markdown",
   "metadata": {},
   "source": [
    "# Melodic Generation with Recurrent Neural Networks\n",
    "\n",
    "In this notebook we will explore how to compute musical expectation with Recurrent Neural Networks (RNNs).\n",
    "\n",
    "RNNs are a family of neural networks designed to model sequential data (like music!).\n",
    "\n",
    "This notebook is adapted from and very close to the notebook in Musical Expectation. The reason for this is that a probabilistic model of the next pitch can be used directly to generate melodies from small seed melody snippets. Just take the most likely (or most unlikely? or some other preference rule?) pitch and append it to the seed melody. Then add the next pitch, and so on.\n",
    "\n",
    "(sidenote: you can modify the Musical Expectation RNN to predict coincident pitches for two (or more) monophonic lines. E.g. given the last 10 notes in a voice (a monophonic melody line of a polyphonic piece), predict the pitch in the second voice that is sounding at the same time. Such a model is a first step to automatic harmonization with RNNs.)\n"
   ]
  },
  {
   "cell_type": "markdown",
   "metadata": {},
   "source": [
    "## Melodic Expectation Models\n",
    "\n",
    "We can model musical expectation as a supervised learning problem, by training a model to predict the next event in the sequence. In particular, we can treat this problem as a *supervised classification problem* in which we present the network with a sequence of inputs encoding pitch and temporal information (e.g., note duration, inter-onset interval, ...), and predicting the next event is equivalent to *classifiying* the next event (i.e., which pitch and duration will the next event have).\n",
    "\n",
    "More formally, we can define this problem as\n",
    "\n",
    "$$p(\\mathbf{x}_{t} \\mid \\mathbf{x}_{t - 1}, \\mathbf{x}_{t - 2}, \\dots) = p(\\mathbf{x}_t \\mid \\mathbf{y}_t)$$\n",
    "\n",
    "where \n",
    "\n",
    "* $\\mathbf{x}_t$ is the melodic event (i.e., note and duration) at time step $t$. We will denote $v_{ti}$ the $i$-th possible note at time $t$.\n",
    "* $p(\\mathbf{x}_{t} \\mid \\mathbf{x}_{t - 1}, \\mathbf{x}_{t - 2}, \\dots)$ is the probability of event $\\mathbf{x}_t$ given the sequence $\\mathbf{X}_{1:t-1} = \\{\\mathbf{x}_1, \\dots, \\mathbf{x}_{t-1}\\}$\n",
    "* $p(\\mathbf{x}_t \\mid \\mathbf{y}_t)$ is the probability of $\\mathbf{x}_t$ parametrized by the $\\mathbf{y}_t$, the output of the RNN. We will come back to this part."
   ]
  },
  {
   "cell_type": "code",
   "execution_count": 6,
   "metadata": {},
   "outputs": [],
   "source": [
    "import glob\n",
    "import logging\n",
    "import os\n",
    "\n",
    "import numpy as np\n",
    "import partitura\n",
    "import torch\n",
    "\n",
    "import matplotlib.pyplot as plt\n",
    "from sklearn.preprocessing import OneHotEncoder\n",
    "from sklearn.model_selection import train_test_split\n",
    "\n",
    "from torch import nn\n",
    "from torch.utils.data import Dataset, ConcatDataset, DataLoader\n",
    "from torch.utils.data.sampler import SubsetRandomSampler\n",
    "\n",
    "logging.basicConfig(level=logging.INFO)\n",
    "LOGGER = logging.getLogger(__name__)\n",
    "# Define seed for random number generator\n",
    "RNG = np.random.RandomState(42)\n"
   ]
  },
  {
   "cell_type": "markdown",
   "metadata": {},
   "source": [
    "## Preparing the data\n",
    "We can load the data and compute the features"
   ]
  },
  {
   "cell_type": "code",
   "execution_count": 7,
   "metadata": {},
   "outputs": [
    {
     "name": "stderr",
     "output_type": "stream",
     "text": [
      "INFO:partitura.io.importmidi:change of Tempo to mpq = 500000  and resulting seconds per tick = 0.0010416666666666667at time: 0.0\n",
      "INFO:partitura.io.importmidi:change of Tempo to mpq = 500000  and resulting seconds per tick = 0.0010416666666666667at time: 0.0\n",
      "INFO:partitura.io.importmidi:change of Tempo to mpq = 500000  and resulting seconds per tick = 0.0010416666666666667at time: 0.0\n",
      "INFO:partitura.io.importmidi:change of Tempo to mpq = 500000  and resulting seconds per tick = 0.0010416666666666667at time: 0.0\n",
      "INFO:partitura.io.importmidi:change of Tempo to mpq = 500000  and resulting seconds per tick = 0.0010416666666666667at time: 0.0\n",
      "INFO:partitura.io.importmidi:change of Tempo to mpq = 500000  and resulting seconds per tick = 0.0010416666666666667at time: 0.0\n",
      "INFO:partitura.io.importmidi:change of Tempo to mpq = 500000  and resulting seconds per tick = 0.0010416666666666667at time: 0.0\n",
      "INFO:partitura.io.importmidi:change of Tempo to mpq = 500000  and resulting seconds per tick = 0.0010416666666666667at time: 0.0\n",
      "INFO:partitura.io.importmidi:change of Tempo to mpq = 500000  and resulting seconds per tick = 0.0010416666666666667at time: 0.0\n",
      "INFO:partitura.io.importmidi:change of Tempo to mpq = 500000  and resulting seconds per tick = 0.0010416666666666667at time: 0.0\n",
      "INFO:partitura.io.importmidi:change of Tempo to mpq = 500000  and resulting seconds per tick = 0.0010416666666666667at time: 0.0\n",
      "INFO:partitura.io.importmidi:change of Tempo to mpq = 500000  and resulting seconds per tick = 0.0010416666666666667at time: 0.0\n",
      "INFO:partitura.io.importmidi:change of Tempo to mpq = 500000  and resulting seconds per tick = 0.0010416666666666667at time: 0.0\n",
      "INFO:partitura.io.importmidi:change of Tempo to mpq = 500000  and resulting seconds per tick = 0.0010416666666666667at time: 0.0\n",
      "INFO:partitura.io.importmidi:change of Tempo to mpq = 500000  and resulting seconds per tick = 0.0010416666666666667at time: 0.0\n",
      "INFO:partitura.io.importmidi:change of Tempo to mpq = 500000  and resulting seconds per tick = 0.0010416666666666667at time: 0.0\n",
      "INFO:partitura.io.importmidi:change of Tempo to mpq = 500000  and resulting seconds per tick = 0.0010416666666666667at time: 0.0\n",
      "INFO:partitura.io.importmidi:change of Tempo to mpq = 500000  and resulting seconds per tick = 0.0010416666666666667at time: 0.0\n",
      "INFO:partitura.io.importmidi:change of Tempo to mpq = 500000  and resulting seconds per tick = 0.0010416666666666667at time: 0.0\n",
      "INFO:partitura.io.importmidi:change of Tempo to mpq = 500000  and resulting seconds per tick = 0.0010416666666666667at time: 0.0\n",
      "INFO:partitura.io.importmidi:change of Tempo to mpq = 500000  and resulting seconds per tick = 0.0010416666666666667at time: 0.0\n",
      "INFO:partitura.io.importmidi:change of Tempo to mpq = 500000  and resulting seconds per tick = 0.0010416666666666667at time: 0.0\n",
      "INFO:partitura.io.importmidi:change of Tempo to mpq = 500000  and resulting seconds per tick = 0.0010416666666666667at time: 0.0\n",
      "INFO:partitura.io.importmidi:change of Tempo to mpq = 500000  and resulting seconds per tick = 0.0010416666666666667at time: 0.0\n",
      "INFO:partitura.io.importmidi:change of Tempo to mpq = 500000  and resulting seconds per tick = 0.0010416666666666667at time: 0.0\n",
      "INFO:partitura.io.importmidi:change of Tempo to mpq = 500000  and resulting seconds per tick = 0.0010416666666666667at time: 0.0\n",
      "INFO:partitura.io.importmidi:change of Tempo to mpq = 500000  and resulting seconds per tick = 0.0010416666666666667at time: 0.0\n",
      "INFO:partitura.io.importmidi:change of Tempo to mpq = 500000  and resulting seconds per tick = 0.0010416666666666667at time: 0.0\n",
      "INFO:partitura.io.importmidi:change of Tempo to mpq = 500000  and resulting seconds per tick = 0.0010416666666666667at time: 0.0\n",
      "INFO:partitura.io.importmidi:change of Tempo to mpq = 500000  and resulting seconds per tick = 0.0010416666666666667at time: 0.0\n",
      "INFO:partitura.io.importmidi:change of Tempo to mpq = 500000  and resulting seconds per tick = 0.0010416666666666667at time: 0.0\n",
      "INFO:partitura.io.importmidi:change of Tempo to mpq = 500000  and resulting seconds per tick = 0.0010416666666666667at time: 0.0\n",
      "INFO:partitura.io.importmidi:change of Tempo to mpq = 500000  and resulting seconds per tick = 0.0010416666666666667at time: 0.0\n",
      "INFO:partitura.io.importmidi:change of Tempo to mpq = 500000  and resulting seconds per tick = 0.0010416666666666667at time: 0.0\n",
      "INFO:partitura.io.importmidi:change of Tempo to mpq = 500000  and resulting seconds per tick = 0.0010416666666666667at time: 0.0\n",
      "INFO:partitura.io.importmidi:change of Tempo to mpq = 500000  and resulting seconds per tick = 0.0010416666666666667at time: 0.0\n",
      "INFO:partitura.io.importmidi:change of Tempo to mpq = 500000  and resulting seconds per tick = 0.0010416666666666667at time: 0.0\n",
      "INFO:partitura.io.importmidi:change of Tempo to mpq = 500000  and resulting seconds per tick = 0.0010416666666666667at time: 0.0\n",
      "INFO:partitura.io.importmidi:change of Tempo to mpq = 500000  and resulting seconds per tick = 0.0010416666666666667at time: 0.0\n",
      "INFO:partitura.io.importmidi:change of Tempo to mpq = 500000  and resulting seconds per tick = 0.0010416666666666667at time: 0.0\n",
      "INFO:partitura.io.importmidi:change of Tempo to mpq = 500000  and resulting seconds per tick = 0.0010416666666666667at time: 0.0\n",
      "INFO:partitura.io.importmidi:change of Tempo to mpq = 500000  and resulting seconds per tick = 0.0010416666666666667at time: 0.0\n",
      "INFO:partitura.io.importmidi:change of Tempo to mpq = 500000  and resulting seconds per tick = 0.0010416666666666667at time: 0.0\n",
      "INFO:partitura.io.importmidi:change of Tempo to mpq = 500000  and resulting seconds per tick = 0.0010416666666666667at time: 0.0\n",
      "INFO:partitura.io.importmidi:change of Tempo to mpq = 500000  and resulting seconds per tick = 0.0010416666666666667at time: 0.0\n",
      "INFO:partitura.io.importmidi:change of Tempo to mpq = 500000  and resulting seconds per tick = 0.0010416666666666667at time: 0.0\n",
      "INFO:partitura.io.importmidi:change of Tempo to mpq = 500000  and resulting seconds per tick = 0.0010416666666666667at time: 0.0\n",
      "INFO:partitura.io.importmidi:change of Tempo to mpq = 500000  and resulting seconds per tick = 0.0010416666666666667at time: 0.0\n",
      "INFO:partitura.io.importmidi:change of Tempo to mpq = 500000  and resulting seconds per tick = 0.0010416666666666667at time: 0.0\n",
      "INFO:partitura.io.importmidi:change of Tempo to mpq = 500000  and resulting seconds per tick = 0.0010416666666666667at time: 0.0\n",
      "INFO:partitura.io.importmidi:change of Tempo to mpq = 500000  and resulting seconds per tick = 0.0010416666666666667at time: 0.0\n",
      "INFO:partitura.io.importmidi:change of Tempo to mpq = 500000  and resulting seconds per tick = 0.0010416666666666667at time: 0.0\n",
      "INFO:partitura.io.importmidi:change of Tempo to mpq = 500000  and resulting seconds per tick = 0.0010416666666666667at time: 0.0\n",
      "INFO:partitura.io.importmidi:change of Tempo to mpq = 500000  and resulting seconds per tick = 0.0010416666666666667at time: 0.0\n",
      "INFO:partitura.io.importmidi:change of Tempo to mpq = 500000  and resulting seconds per tick = 0.0010416666666666667at time: 0.0\n",
      "INFO:partitura.io.importmidi:change of Tempo to mpq = 500000  and resulting seconds per tick = 0.0010416666666666667at time: 0.0\n",
      "INFO:partitura.io.importmidi:change of Tempo to mpq = 500000  and resulting seconds per tick = 0.0010416666666666667at time: 0.0\n",
      "INFO:partitura.io.importmidi:change of Tempo to mpq = 500000  and resulting seconds per tick = 0.0010416666666666667at time: 0.0\n",
      "INFO:partitura.io.importmidi:change of Tempo to mpq = 500000  and resulting seconds per tick = 0.0010416666666666667at time: 0.0\n",
      "INFO:partitura.io.importmidi:change of Tempo to mpq = 500000  and resulting seconds per tick = 0.0010416666666666667at time: 0.0\n",
      "INFO:partitura.io.importmidi:change of Tempo to mpq = 500000  and resulting seconds per tick = 0.0010416666666666667at time: 0.0\n",
      "INFO:partitura.io.importmidi:change of Tempo to mpq = 500000  and resulting seconds per tick = 0.0010416666666666667at time: 0.0\n",
      "INFO:partitura.io.importmidi:change of Tempo to mpq = 500000  and resulting seconds per tick = 0.0010416666666666667at time: 0.0\n",
      "INFO:partitura.io.importmidi:change of Tempo to mpq = 500000  and resulting seconds per tick = 0.0010416666666666667at time: 0.0\n"
     ]
    },
    {
     "name": "stderr",
     "output_type": "stream",
     "text": [
      "INFO:partitura.io.importmidi:change of Tempo to mpq = 500000  and resulting seconds per tick = 0.0010416666666666667at time: 0.0\n",
      "INFO:partitura.io.importmidi:change of Tempo to mpq = 500000  and resulting seconds per tick = 0.0010416666666666667at time: 0.0\n",
      "INFO:partitura.io.importmidi:change of Tempo to mpq = 500000  and resulting seconds per tick = 0.0010416666666666667at time: 0.0\n",
      "INFO:partitura.io.importmidi:change of Tempo to mpq = 500000  and resulting seconds per tick = 0.0010416666666666667at time: 0.0\n",
      "INFO:partitura.io.importmidi:change of Tempo to mpq = 500000  and resulting seconds per tick = 0.0010416666666666667at time: 0.0\n",
      "INFO:partitura.io.importmidi:change of Tempo to mpq = 500000  and resulting seconds per tick = 0.0010416666666666667at time: 0.0\n",
      "INFO:partitura.io.importmidi:change of Tempo to mpq = 500000  and resulting seconds per tick = 0.0010416666666666667at time: 0.0\n",
      "INFO:partitura.io.importmidi:change of Tempo to mpq = 500000  and resulting seconds per tick = 0.0010416666666666667at time: 0.0\n",
      "INFO:partitura.io.importmidi:change of Tempo to mpq = 500000  and resulting seconds per tick = 0.0010416666666666667at time: 0.0\n",
      "INFO:partitura.io.importmidi:change of Tempo to mpq = 500000  and resulting seconds per tick = 0.0010416666666666667at time: 0.0\n",
      "INFO:partitura.io.importmidi:change of Tempo to mpq = 500000  and resulting seconds per tick = 0.0010416666666666667at time: 0.0\n",
      "INFO:partitura.io.importmidi:change of Tempo to mpq = 500000  and resulting seconds per tick = 0.0010416666666666667at time: 0.0\n",
      "INFO:partitura.io.importmidi:change of Tempo to mpq = 500000  and resulting seconds per tick = 0.0010416666666666667at time: 0.0\n",
      "INFO:partitura.io.importmidi:change of Tempo to mpq = 500000  and resulting seconds per tick = 0.0010416666666666667at time: 0.0\n",
      "INFO:partitura.io.importmidi:change of Tempo to mpq = 500000  and resulting seconds per tick = 0.0010416666666666667at time: 0.0\n",
      "INFO:partitura.io.importmidi:change of Tempo to mpq = 500000  and resulting seconds per tick = 0.0010416666666666667at time: 0.0\n",
      "INFO:partitura.io.importmidi:change of Tempo to mpq = 500000  and resulting seconds per tick = 0.0010416666666666667at time: 0.0\n",
      "INFO:partitura.io.importmidi:change of Tempo to mpq = 500000  and resulting seconds per tick = 0.0010416666666666667at time: 0.0\n",
      "INFO:partitura.io.importmidi:change of Tempo to mpq = 500000  and resulting seconds per tick = 0.0010416666666666667at time: 0.0\n",
      "INFO:partitura.io.importmidi:change of Tempo to mpq = 500000  and resulting seconds per tick = 0.0010416666666666667at time: 0.0\n",
      "INFO:partitura.io.importmidi:change of Tempo to mpq = 500000  and resulting seconds per tick = 0.0010416666666666667at time: 0.0\n",
      "INFO:partitura.io.importmidi:change of Tempo to mpq = 500000  and resulting seconds per tick = 0.0010416666666666667at time: 0.0\n",
      "INFO:partitura.io.importmidi:change of Tempo to mpq = 500000  and resulting seconds per tick = 0.0010416666666666667at time: 0.0\n",
      "INFO:partitura.io.importmidi:change of Tempo to mpq = 500000  and resulting seconds per tick = 0.0010416666666666667at time: 0.0\n",
      "INFO:partitura.io.importmidi:change of Tempo to mpq = 500000  and resulting seconds per tick = 0.0010416666666666667at time: 0.0\n",
      "INFO:partitura.io.importmidi:change of Tempo to mpq = 500000  and resulting seconds per tick = 0.0010416666666666667at time: 0.0\n",
      "INFO:partitura.io.importmidi:change of Tempo to mpq = 500000  and resulting seconds per tick = 0.0010416666666666667at time: 0.0\n",
      "INFO:partitura.io.importmidi:change of Tempo to mpq = 500000  and resulting seconds per tick = 0.0010416666666666667at time: 0.0\n",
      "INFO:partitura.io.importmidi:change of Tempo to mpq = 500000  and resulting seconds per tick = 0.0010416666666666667at time: 0.0\n",
      "INFO:partitura.io.importmidi:change of Tempo to mpq = 500000  and resulting seconds per tick = 0.0010416666666666667at time: 0.0\n",
      "INFO:partitura.io.importmidi:change of Tempo to mpq = 500000  and resulting seconds per tick = 0.0010416666666666667at time: 0.0\n",
      "INFO:partitura.io.importmidi:change of Tempo to mpq = 500000  and resulting seconds per tick = 0.0010416666666666667at time: 0.0\n",
      "INFO:partitura.io.importmidi:change of Tempo to mpq = 500000  and resulting seconds per tick = 0.0010416666666666667at time: 0.0\n",
      "INFO:partitura.io.importmidi:change of Tempo to mpq = 500000  and resulting seconds per tick = 0.0010416666666666667at time: 0.0\n",
      "INFO:partitura.io.importmidi:change of Tempo to mpq = 500000  and resulting seconds per tick = 0.0010416666666666667at time: 0.0\n",
      "INFO:partitura.io.importmidi:change of Tempo to mpq = 500000  and resulting seconds per tick = 0.0010416666666666667at time: 0.0\n",
      "INFO:partitura.io.importmidi:change of Tempo to mpq = 500000  and resulting seconds per tick = 0.0010416666666666667at time: 0.0\n",
      "INFO:partitura.io.importmidi:change of Tempo to mpq = 500000  and resulting seconds per tick = 0.0010416666666666667at time: 0.0\n",
      "INFO:partitura.io.importmidi:change of Tempo to mpq = 500000  and resulting seconds per tick = 0.0010416666666666667at time: 0.0\n",
      "INFO:partitura.io.importmidi:change of Tempo to mpq = 500000  and resulting seconds per tick = 0.0010416666666666667at time: 0.0\n",
      "INFO:partitura.io.importmidi:change of Tempo to mpq = 500000  and resulting seconds per tick = 0.0010416666666666667at time: 0.0\n",
      "INFO:partitura.io.importmidi:change of Tempo to mpq = 500000  and resulting seconds per tick = 0.0010416666666666667at time: 0.0\n",
      "INFO:partitura.io.importmidi:change of Tempo to mpq = 500000  and resulting seconds per tick = 0.0010416666666666667at time: 0.0\n",
      "INFO:partitura.io.importmidi:change of Tempo to mpq = 500000  and resulting seconds per tick = 0.0010416666666666667at time: 0.0\n",
      "INFO:partitura.io.importmidi:change of Tempo to mpq = 500000  and resulting seconds per tick = 0.0010416666666666667at time: 0.0\n",
      "INFO:partitura.io.importmidi:change of Tempo to mpq = 500000  and resulting seconds per tick = 0.0010416666666666667at time: 0.0\n",
      "INFO:partitura.io.importmidi:change of Tempo to mpq = 500000  and resulting seconds per tick = 0.0010416666666666667at time: 0.0\n",
      "INFO:partitura.io.importmidi:change of Tempo to mpq = 500000  and resulting seconds per tick = 0.0010416666666666667at time: 0.0\n",
      "INFO:partitura.io.importmidi:change of Tempo to mpq = 500000  and resulting seconds per tick = 0.0010416666666666667at time: 0.0\n",
      "INFO:partitura.io.importmidi:change of Tempo to mpq = 500000  and resulting seconds per tick = 0.0010416666666666667at time: 0.0\n",
      "INFO:partitura.io.importmidi:change of Tempo to mpq = 500000  and resulting seconds per tick = 0.0010416666666666667at time: 0.0\n",
      "INFO:partitura.io.importmidi:change of Tempo to mpq = 500000  and resulting seconds per tick = 0.0010416666666666667at time: 0.0\n",
      "INFO:partitura.io.importmidi:change of Tempo to mpq = 500000  and resulting seconds per tick = 0.0010416666666666667at time: 0.0\n",
      "INFO:partitura.io.importmidi:change of Tempo to mpq = 500000  and resulting seconds per tick = 0.0010416666666666667at time: 0.0\n",
      "INFO:partitura.io.importmidi:change of Tempo to mpq = 500000  and resulting seconds per tick = 0.0010416666666666667at time: 0.0\n",
      "INFO:partitura.io.importmidi:change of Tempo to mpq = 500000  and resulting seconds per tick = 0.0010416666666666667at time: 0.0\n",
      "INFO:partitura.io.importmidi:change of Tempo to mpq = 500000  and resulting seconds per tick = 0.0010416666666666667at time: 0.0\n",
      "INFO:partitura.io.importmidi:change of Tempo to mpq = 500000  and resulting seconds per tick = 0.0010416666666666667at time: 0.0\n",
      "INFO:partitura.io.importmidi:change of Tempo to mpq = 500000  and resulting seconds per tick = 0.0010416666666666667at time: 0.0\n",
      "INFO:partitura.io.importmidi:change of Tempo to mpq = 500000  and resulting seconds per tick = 0.0010416666666666667at time: 0.0\n",
      "INFO:partitura.io.importmidi:change of Tempo to mpq = 500000  and resulting seconds per tick = 0.0010416666666666667at time: 0.0\n",
      "INFO:partitura.io.importmidi:change of Tempo to mpq = 500000  and resulting seconds per tick = 0.0010416666666666667at time: 0.0\n",
      "INFO:partitura.io.importmidi:change of Tempo to mpq = 500000  and resulting seconds per tick = 0.0010416666666666667at time: 0.0\n",
      "INFO:partitura.io.importmidi:change of Tempo to mpq = 500000  and resulting seconds per tick = 0.0010416666666666667at time: 0.0\n"
     ]
    },
    {
     "name": "stderr",
     "output_type": "stream",
     "text": [
      "INFO:partitura.io.importmidi:change of Tempo to mpq = 500000  and resulting seconds per tick = 0.0010416666666666667at time: 0.0\n",
      "INFO:partitura.io.importmidi:change of Tempo to mpq = 500000  and resulting seconds per tick = 0.0010416666666666667at time: 0.0\n",
      "INFO:partitura.io.importmidi:change of Tempo to mpq = 500000  and resulting seconds per tick = 0.0010416666666666667at time: 0.0\n",
      "INFO:partitura.io.importmidi:change of Tempo to mpq = 500000  and resulting seconds per tick = 0.0010416666666666667at time: 0.0\n",
      "INFO:partitura.io.importmidi:change of Tempo to mpq = 500000  and resulting seconds per tick = 0.0010416666666666667at time: 0.0\n",
      "INFO:partitura.io.importmidi:change of Tempo to mpq = 500000  and resulting seconds per tick = 0.0010416666666666667at time: 0.0\n",
      "INFO:partitura.io.importmidi:change of Tempo to mpq = 500000  and resulting seconds per tick = 0.0010416666666666667at time: 0.0\n",
      "INFO:partitura.io.importmidi:change of Tempo to mpq = 500000  and resulting seconds per tick = 0.0010416666666666667at time: 0.0\n",
      "INFO:partitura.io.importmidi:change of Tempo to mpq = 500000  and resulting seconds per tick = 0.0010416666666666667at time: 0.0\n",
      "INFO:partitura.io.importmidi:change of Tempo to mpq = 500000  and resulting seconds per tick = 0.0010416666666666667at time: 0.0\n",
      "INFO:partitura.io.importmidi:change of Tempo to mpq = 500000  and resulting seconds per tick = 0.0010416666666666667at time: 0.0\n",
      "INFO:partitura.io.importmidi:change of Tempo to mpq = 500000  and resulting seconds per tick = 0.0010416666666666667at time: 0.0\n",
      "INFO:partitura.io.importmidi:change of Tempo to mpq = 500000  and resulting seconds per tick = 0.0010416666666666667at time: 0.0\n",
      "INFO:partitura.io.importmidi:change of Tempo to mpq = 500000  and resulting seconds per tick = 0.0010416666666666667at time: 0.0\n",
      "INFO:partitura.io.importmidi:change of Tempo to mpq = 500000  and resulting seconds per tick = 0.0010416666666666667at time: 0.0\n",
      "INFO:partitura.io.importmidi:change of Tempo to mpq = 500000  and resulting seconds per tick = 0.0010416666666666667at time: 0.0\n",
      "INFO:partitura.io.importmidi:change of Tempo to mpq = 500000  and resulting seconds per tick = 0.0010416666666666667at time: 0.0\n",
      "INFO:partitura.io.importmidi:change of Tempo to mpq = 500000  and resulting seconds per tick = 0.0010416666666666667at time: 0.0\n",
      "INFO:partitura.io.importmidi:change of Tempo to mpq = 500000  and resulting seconds per tick = 0.0010416666666666667at time: 0.0\n",
      "INFO:partitura.io.importmidi:change of Tempo to mpq = 500000  and resulting seconds per tick = 0.0010416666666666667at time: 0.0\n",
      "INFO:partitura.io.importmidi:change of Tempo to mpq = 500000  and resulting seconds per tick = 0.0010416666666666667at time: 0.0\n",
      "INFO:partitura.io.importmidi:change of Tempo to mpq = 500000  and resulting seconds per tick = 0.0010416666666666667at time: 0.0\n",
      "INFO:partitura.io.importmidi:change of Tempo to mpq = 500000  and resulting seconds per tick = 0.0010416666666666667at time: 0.0\n",
      "INFO:partitura.io.importmidi:change of Tempo to mpq = 500000  and resulting seconds per tick = 0.0010416666666666667at time: 0.0\n",
      "INFO:partitura.io.importmidi:change of Tempo to mpq = 500000  and resulting seconds per tick = 0.0010416666666666667at time: 0.0\n",
      "INFO:partitura.io.importmidi:change of Tempo to mpq = 500000  and resulting seconds per tick = 0.0010416666666666667at time: 0.0\n",
      "INFO:partitura.io.importmidi:change of Tempo to mpq = 500000  and resulting seconds per tick = 0.0010416666666666667at time: 0.0\n",
      "INFO:partitura.io.importmidi:change of Tempo to mpq = 500000  and resulting seconds per tick = 0.0010416666666666667at time: 0.0\n",
      "INFO:partitura.io.importmidi:change of Tempo to mpq = 500000  and resulting seconds per tick = 0.0010416666666666667at time: 0.0\n",
      "INFO:partitura.io.importmidi:change of Tempo to mpq = 500000  and resulting seconds per tick = 0.0010416666666666667at time: 0.0\n",
      "INFO:partitura.io.importmidi:change of Tempo to mpq = 500000  and resulting seconds per tick = 0.0010416666666666667at time: 0.0\n",
      "INFO:partitura.io.importmidi:change of Tempo to mpq = 500000  and resulting seconds per tick = 0.0010416666666666667at time: 0.0\n",
      "INFO:partitura.io.importmidi:change of Tempo to mpq = 500000  and resulting seconds per tick = 0.0010416666666666667at time: 0.0\n",
      "INFO:partitura.io.importmidi:change of Tempo to mpq = 500000  and resulting seconds per tick = 0.0010416666666666667at time: 0.0\n",
      "INFO:partitura.io.importmidi:change of Tempo to mpq = 500000  and resulting seconds per tick = 0.0010416666666666667at time: 0.0\n",
      "INFO:partitura.io.importmidi:change of Tempo to mpq = 500000  and resulting seconds per tick = 0.0010416666666666667at time: 0.0\n",
      "INFO:partitura.io.importmidi:change of Tempo to mpq = 500000  and resulting seconds per tick = 0.0010416666666666667at time: 0.0\n",
      "INFO:partitura.io.importmidi:change of Tempo to mpq = 500000  and resulting seconds per tick = 0.0010416666666666667at time: 0.0\n",
      "INFO:partitura.io.importmidi:change of Tempo to mpq = 500000  and resulting seconds per tick = 0.0010416666666666667at time: 0.0\n",
      "INFO:partitura.io.importmidi:change of Tempo to mpq = 500000  and resulting seconds per tick = 0.0010416666666666667at time: 0.0\n",
      "INFO:partitura.io.importmidi:change of Tempo to mpq = 500000  and resulting seconds per tick = 0.0010416666666666667at time: 0.0\n",
      "INFO:partitura.io.importmidi:change of Tempo to mpq = 500000  and resulting seconds per tick = 0.0010416666666666667at time: 0.0\n",
      "INFO:partitura.io.importmidi:change of Tempo to mpq = 500000  and resulting seconds per tick = 0.0010416666666666667at time: 0.0\n",
      "INFO:partitura.io.importmidi:change of Tempo to mpq = 500000  and resulting seconds per tick = 0.0010416666666666667at time: 0.0\n",
      "INFO:partitura.io.importmidi:change of Tempo to mpq = 500000  and resulting seconds per tick = 0.0010416666666666667at time: 0.0\n",
      "INFO:partitura.io.importmidi:change of Tempo to mpq = 500000  and resulting seconds per tick = 0.0010416666666666667at time: 0.0\n",
      "INFO:partitura.io.importmidi:change of Tempo to mpq = 500000  and resulting seconds per tick = 0.0010416666666666667at time: 0.0\n",
      "INFO:partitura.io.importmidi:change of Tempo to mpq = 500000  and resulting seconds per tick = 0.0010416666666666667at time: 0.0\n",
      "INFO:partitura.io.importmidi:change of Tempo to mpq = 500000  and resulting seconds per tick = 0.0010416666666666667at time: 0.0\n",
      "INFO:partitura.io.importmidi:change of Tempo to mpq = 500000  and resulting seconds per tick = 0.0010416666666666667at time: 0.0\n",
      "INFO:partitura.io.importmidi:change of Tempo to mpq = 500000  and resulting seconds per tick = 0.0010416666666666667at time: 0.0\n",
      "INFO:partitura.io.importmidi:change of Tempo to mpq = 500000  and resulting seconds per tick = 0.0010416666666666667at time: 0.0\n",
      "INFO:partitura.io.importmidi:change of Tempo to mpq = 500000  and resulting seconds per tick = 0.0010416666666666667at time: 0.0\n",
      "INFO:partitura.io.importmidi:change of Tempo to mpq = 500000  and resulting seconds per tick = 0.0010416666666666667at time: 0.0\n",
      "INFO:partitura.io.importmidi:change of Tempo to mpq = 500000  and resulting seconds per tick = 0.0010416666666666667at time: 0.0\n",
      "INFO:partitura.io.importmidi:change of Tempo to mpq = 500000  and resulting seconds per tick = 0.0010416666666666667at time: 0.0\n",
      "INFO:partitura.io.importmidi:change of Tempo to mpq = 500000  and resulting seconds per tick = 0.0010416666666666667at time: 0.0\n"
     ]
    }
   ],
   "source": [
    "from rnn import load_data\n",
    "\n",
    "# To filter out short melodies The minimum number of notes that a sequence should have\n",
    "min_seq_len = 10\n",
    "sequences = load_data(min_seq_len, directory = os.path.join(\"..\", \"expectation\",\"data\"))"
   ]
  },
  {
   "cell_type": "markdown",
   "metadata": {},
   "source": [
    "For simplicity, we are going to assume that pitch and duration/temporal information are independent, so that modeling melodic expectation can be simplified as\n",
    "\n",
    "$$p(\\mathbf{x}_t \\mid \\mathbf{y}_t) = p(\\text{pitch}_t \\mid \\mathbf{y}_t) p(\\text{duration}_t \\mid \\mathbf{y}_t)$$\n",
    "\n",
    "(for simplicity, we are using \"duration\" as the feature representing temporal information, but we can use IOI, or other features)\n",
    "\n",
    "Since we have natural \"categories\" for pitch and duration (i.e., each MIDI note number representing the pitch, and each of the individual \"duration\" values), we can use a one-hot-encoding for each of these features.\n",
    "\n",
    "$$\\mathbf{x}_t = \\left(\\begin{array}{c}\\mathbf{pitch}_t \\\\ \\mathbf{duration}_t\\end{array} \\right)$$\n",
    "\n",
    "where $p_{it} = 1$ if pitch $i$ is the \"active\" note at time $t$ and $0$ otherwise (and similar for duration)."
   ]
  },
  {
   "cell_type": "code",
   "execution_count": 8,
   "metadata": {},
   "outputs": [],
   "source": [
    "# Decide which features to use\n",
    "# Useful info\n",
    "field_names = [\n",
    "    \"pitch\", \n",
    "    \"onset_sec\", \n",
    "    \"duration_sec\"\n",
    "]\n",
    "\n",
    "def get_features(seq):\n",
    "    # Possible things to try:\n",
    "    # * Use inter onset interval (IOI) instead of duration\n",
    "    # * Code rest (and duration) instead of IOI\n",
    "    feature_names = [\n",
    "        \"pitch\",\n",
    "        \"duration_sec\"\n",
    "    ]\n",
    "    \n",
    "    # construct features\n",
    "    x = np.column_stack([seq[fn] for fn in feature_names])\n",
    "    return x\n",
    "\n",
    "Data = [get_features(x) for x in sequences]"
   ]
  },
  {
   "cell_type": "code",
   "execution_count": 9,
   "metadata": {},
   "outputs": [],
   "source": [
    "# MIDIs were generated at 100bpm\n",
    "dur_encoder = OneHotEncoder().fit(np.hstack([np.round(x[:, 1] * 100 / 60, 3) for x in Data]).reshape(-1, 1))\n",
    "pitch_encoder = OneHotEncoder().fit(np.hstack([x[:, 0] for x in Data]).reshape(-1, 1))"
   ]
  },
  {
   "cell_type": "code",
   "execution_count": 10,
   "metadata": {},
   "outputs": [],
   "source": [
    "data_one_hot = []\n",
    "for x in Data:\n",
    "    pitch_features = pitch_encoder.transform(x[:, 0].reshape(-1, 1)).toarray()\n",
    "    duration_features = dur_encoder.transform(np.round(x[:, 1] * 100 / 60 , 3).reshape(-1, 1)).toarray()\n",
    "    data_one_hot.append(np.column_stack([pitch_features, duration_features]))\n",
    "    \n",
    "input_size = data_one_hot[0].shape[1]\n",
    "pitch_idxs = np.arange(len(pitch_encoder.categories_[0]))\n",
    "dur_idxs = np.arange(len(pitch_encoder.categories_[0]), len(pitch_encoder.categories_[0]) + len(dur_encoder.categories_[0]))"
   ]
  },
  {
   "cell_type": "code",
   "execution_count": null,
   "metadata": {},
   "outputs": [],
   "source": []
  },
  {
   "cell_type": "markdown",
   "metadata": {},
   "source": [
    "## Tasks 1: visualize the one hot encoded data!\n",
    "\n",
    "- What data is in data_one_hot? How many classes are there for pitches and for durations respectively? How can you predefine the classes instead of using all classes in the data? Check the sklearn documentation: https://scikit-learn.org/dev/modules/generated/sklearn.preprocessing.OneHotEncoder.html\n",
    "\n",
    "- Visualize the data for one piece"
   ]
  },
  {
   "cell_type": "code",
   "execution_count": null,
   "metadata": {},
   "outputs": [],
   "source": []
  },
  {
   "cell_type": "markdown",
   "metadata": {},
   "source": [
    "# The Pytorch Workflow\n",
    "\n",
    "For convenience we are using pytorch classes and wrappers for the important parts of the RNN training, namely:\n",
    "- a Dataset and Dataloader class\n",
    "- a RNN model\n",
    "- a Loss function\n",
    "- a Trainer class that handles training: loop over samples; computes current RNN output; computes loss wrt true class; backpropagates the gradient of the loss, and updates the weights\n",
    "- ... and also logging: saving model weight checkpoints, computing average training and validation losses, nice status updates in the console... \n",
    "\n",
    "## Tasks 2: overview of the code!\n",
    "\n",
    "The network setup is a bit complicated and too much to code for one hour. Skim the code and mark things that seem unclear to you. The next tasks will deal with trained RNNs, so familiarize yourself with the high-level commands to specify and train one."
   ]
  },
  {
   "cell_type": "markdown",
   "metadata": {},
   "source": [
    "## Dataset and DataLoader\n",
    "\n",
    "Ideally, we would like our data handling code to be decoupled from the model definition and training. PyTorch provides a convenient way to handle data with the `torch.utils.data.Dataset` and `torch.utils.data.DataLoader` classes.\n",
    "\n",
    "* `Dataset` stores the samples and their corresponding targets\n",
    "* `DataLoader` wraps an iterable around the `Dataset` to enable easy access to the samples.\n",
    "\n",
    "We can create a custom `Dataset` for our musical data. A custom `Dataset` class must implement three functions: `__init__`, `__len__`, and `__getitem__`.\n",
    "\n",
    "In our case, we would like a dataset for which the inputs would be sequences of length $S$\n",
    "\n",
    "$$ \\mathbf{X} = \\{\\mathbf{x_i}, \\dots, \\mathbf{x}_{i + S}\\}$$\n",
    "\n",
    "and their corresponding targets are a one-step shifted version of the inputs, i.e.,\n",
    "\n",
    "$$ \\mathbf{Y} = \\{\\mathbf{x}_{i+1}, \\dots, \\mathbf{x}_{i + S + 1}\\}$$\n",
    "\n",
    "We can define such a dataset with the following `PieceDataset` class:"
   ]
  },
  {
   "cell_type": "code",
   "execution_count": 11,
   "metadata": {},
   "outputs": [],
   "source": [
    "class PieceDataset(Dataset):\n",
    "    \"\"\"\n",
    "    Dataset for sequential predictions.\n",
    "    In this case, if data is a sequence of datapoints,\n",
    "    the inputs (x) will be x[t:t+seq_len] and outputs would\n",
    "    be (y) x[t+1:t+seq_len+1] (i.e., the next events)\n",
    "    \"\"\"\n",
    "    def __init__(self, data, seq_len=min_seq_len):\n",
    "        self.data = data\n",
    "        self.seq_len = seq_len\n",
    "        \n",
    "    @property\n",
    "    def piecewise(self):\n",
    "        return self.seq_len == -1\n",
    "\n",
    "    def __getitem__(self, i):\n",
    "        if self.piecewise:\n",
    "            return self._get_item_piecewise(i)\n",
    "        else:\n",
    "            return self._get_item_sequencewise(i)\n",
    "\n",
    "    def _get_item_piecewise(self, i):\n",
    "        if i > 0:\n",
    "            raise IndexError\n",
    "        x = self.data[:-1]\n",
    "        y = self.data[1:]\n",
    "        return x, y\n",
    "\n",
    "    def _get_item_sequencewise(self, i):\n",
    "        if i + self.seq_len - 1 > len(self.data):\n",
    "            raise IndexError\n",
    "        x = self.data[i:i + self.seq_len]\n",
    "        y = self.data[i + 1: i + self.seq_len + 1]\n",
    "        return x, y\n",
    "\n",
    "    def __len__(self):\n",
    "        if self.piecewise:\n",
    "            return 1\n",
    "        else:\n",
    "            return max(0, len(self.data) - self.seq_len)"
   ]
  },
  {
   "cell_type": "markdown",
   "metadata": {},
   "source": [
    "We now split the data into training, validation and test sets"
   ]
  },
  {
   "cell_type": "code",
   "execution_count": 12,
   "metadata": {},
   "outputs": [],
   "source": [
    "# The dataset will be the concatenation of the datasets for each piece\n",
    "dataset = ConcatDataset([PieceDataset(piece, seq_len=-1) for piece in data_one_hot])\n",
    "\n",
    "# Select training, test and validation sets\n",
    "dataset_idx = np.arange(len(dataset))\n",
    "\n",
    "valid_size = 0.2\n",
    "test_size = 0.3\n",
    "batch_size = 1\n",
    "\n",
    "trainvalid_idx, test_idx = train_test_split(dataset_idx, \n",
    "                                            test_size=0.33,\n",
    "                                            random_state=RNG)\n",
    "\n",
    "RNG.shuffle(trainvalid_idx)\n",
    "len_valid = int(np.round(len(dataset) * valid_size))\n",
    "valid_idx = dataset_idx[0:len_valid]\n",
    "train_idx = dataset_idx[len_valid:]\n",
    "\n",
    "train_sampler = SubsetRandomSampler(train_idx)\n",
    "valid_sampler = SubsetRandomSampler(valid_idx)\n",
    "test_sampler = SubsetRandomSampler(test_idx)\n",
    "train_loader = DataLoader(dataset, batch_size=batch_size, sampler=train_sampler)\n",
    "valid_loader = DataLoader(dataset, batch_size=batch_size, sampler=valid_sampler)\n",
    "test_loader = DataLoader(dataset, batch_size=batch_size, sampler=test_sampler)"
   ]
  },
  {
   "cell_type": "markdown",
   "metadata": {},
   "source": [
    "## Defining the Model\n",
    "\n",
    "We can now define an RNN!\n",
    "\n",
    "PyTorch provides a very convenient way to create neural networks with the `torch.nn.Module` class. This class allows us to define a custom neural architecture, and define how the information should flow in the forward pass.\n",
    "\n",
    "A module should implement a  `forward` method to define the forward pass. Additionally, RNNs should implement a method for initializing the hidden recurrent layers.\n",
    "\n",
    "The following code is a simple recurrent model consisting of\n",
    "\n",
    "* 1 recurrent layer (can be defined as a vanilla RNN, an LSTM or GRU)\n",
    "* 1 hidden dense layer to embed the output of the recurrent layer\n",
    "\n",
    "In this case, the dimension of the inputs are the same as the dimensions of the output, since we want to predict the next step."
   ]
  },
  {
   "cell_type": "code",
   "execution_count": 13,
   "metadata": {},
   "outputs": [],
   "source": [
    "class RecurrentModel(nn.Module):\n",
    "    \"\"\"\n",
    "    A Simple Recurrent Model\n",
    "    \"\"\"\n",
    "\n",
    "    def __init__(self,\n",
    "                 input_size,\n",
    "                 recurrent_size, hidden_size,\n",
    "                 dropout=0.0,\n",
    "                 batch_first=True,\n",
    "                 dtype=torch.float32,\n",
    "                 rnn_layer=nn.LSTM,\n",
    "                 device=None):\n",
    "        nn.Module.__init__(self)\n",
    "        self.input_size = input_size\n",
    "        self.recurrent_size = recurrent_size\n",
    "        self.hidden_size = hidden_size\n",
    "        self.output_size = input_size\n",
    "        self.n_layers = 1\n",
    "        self.batch_first = batch_first\n",
    "        self.device = device if device is not None else torch.device('cpu')\n",
    "        self.to(self.device)\n",
    "        self.dtype = dtype\n",
    "        self.rnn = rnn_layer(input_size, \n",
    "                             self.recurrent_size,\n",
    "                             self.n_layers,\n",
    "                             batch_first=batch_first, \n",
    "                             dropout=dropout,\n",
    "                             bidirectional=False)\n",
    "        dense_in_features = self.recurrent_size\n",
    "        self.dense = nn.Linear(in_features=dense_in_features,\n",
    "                               out_features=self.hidden_size)\n",
    "        self.output = nn.Linear(in_features=self.hidden_size,\n",
    "                                out_features=self.output_size)\n",
    "\n",
    "    def init_hidden(self, batch_size):\n",
    "        \n",
    "        if isinstance(self.rnn, nn.LSTM):\n",
    "            h0 = torch.zeros(self.n_layers, batch_size, self.recurrent_size).to(self.dtype)\n",
    "            c0 = torch.zeros(self.n_layers, batch_size, self.recurrent_size).to(self.dtype)\n",
    "            return (h0, c0)\n",
    "        else:\n",
    "            return torch.zeros(self.n_layers, batch_size, self.recurrent_size).to(self.dtype)\n",
    "\n",
    "    def forward(self, x):\n",
    "        batch_size = x.size(0)\n",
    "        seq_len = x.size(1)\n",
    "        h0 = self.init_hidden(batch_size)\n",
    "        output, h = self.rnn(x, h0)\n",
    "        flatten_shape = self.recurrent_size\n",
    "        dense = self.dense(output.contiguous().view(-1, flatten_shape))\n",
    "        y = self.output(dense)\n",
    "        y = y.view(batch_size, seq_len, self.output_size)\n",
    "\n",
    "        return y\n",
    "    \n",
    "rnn = RecurrentModel(input_size=input_size, recurrent_size=64, hidden_size=64)"
   ]
  },
  {
   "cell_type": "markdown",
   "metadata": {},
   "source": [
    "## Training the Model\n",
    "\n",
    "In order to train the model, we need to specify a loss function.\n",
    "\n",
    "A common loss function for classification tasks is the Cross Entropy Loss. Since our network is basically predicting (classifiying) a pitch and a duration with different parts of the output vector, we can simply compute the cross entropy of the pitch and the cross entropy of the duration, and add the together"
   ]
  },
  {
   "cell_type": "code",
   "execution_count": 14,
   "metadata": {},
   "outputs": [],
   "source": [
    "class PitchDurationCrossEntropyLoss(nn.Module):\n",
    "    \"\"\"\n",
    "    Cross Entropy of Pitch and Duration\n",
    "    \"\"\"\n",
    "    def __init__(self, pitch_idxs, dur_idxs, weights=[0.5, 0.5], name='PitchDurationCrossEntropyLoss'):\n",
    "        nn.Module.__init__(self)\n",
    "        self.pitch_idxs = pitch_idxs\n",
    "        self.dur_idxs = dur_idxs    \n",
    "        self.weights = weights\n",
    "        self.name = name\n",
    "        self.ce = nn.CrossEntropyLoss()\n",
    "\n",
    "    def __call__(self, predictions, targets):\n",
    "        pitch_preds = predictions[:, :, self.pitch_idxs]\n",
    "        pitch_preds = pitch_preds.view(-1, pitch_preds.size(2))\n",
    "        dur_preds = predictions[:, :, self.dur_idxs]\n",
    "        dur_preds = dur_preds.view(-1, dur_preds.size(2))\n",
    "        pitch_target = targets[:, :, self.pitch_idxs].argmax(-1).view(-1).to(torch.long)\n",
    "        dur_target = targets[:, :, self.dur_idxs].argmax(-1).view(-1).to(torch.long)\n",
    "        loss = (self.weights[0] * self.ce(pitch_preds, pitch_target) + \n",
    "                self.weights[1] * self.ce(dur_preds, dur_target))\n",
    "        return loss\n"
   ]
  },
  {
   "cell_type": "markdown",
   "metadata": {},
   "source": [
    "We can now setup the training of the model!\n",
    "\n",
    "The `SupervisedTrainer` class is a helper to setup a function to train a model in a supervised way."
   ]
  },
  {
   "cell_type": "code",
   "execution_count": 15,
   "metadata": {},
   "outputs": [],
   "source": [
    "from rnn import SupervisedTrainer\n",
    "\n",
    "train_loss = PitchDurationCrossEntropyLoss(pitch_idxs, dur_idxs, name=\"Train\")\n",
    "valid_loss = PitchDurationCrossEntropyLoss(pitch_idxs, dur_idxs, name=\"Validation\")\n",
    "learning_rate = 0.01\n",
    "epochs = 4\n",
    "early_stopping = 2\n",
    "\n",
    "optimizer = torch.optim.AdamW(rnn.parameters(), lr=learning_rate)\n",
    "\n",
    "trainer = SupervisedTrainer(model=rnn,\n",
    "                            train_loss=train_loss,\n",
    "                            valid_loss=valid_loss,\n",
    "                            train_dataloader=train_loader,\n",
    "                            valid_dataloader=valid_loader,\n",
    "                            epochs=epochs,\n",
    "                            save_freq=1, # This parameter controlls how often the model is validated\n",
    "                            n_gpu=0,\n",
    "                            early_stopping=early_stopping,\n",
    "                            optimizer=optimizer)"
   ]
  },
  {
   "cell_type": "markdown",
   "metadata": {},
   "source": [
    "Now we are ready to train the model!"
   ]
  },
  {
   "cell_type": "code",
   "execution_count": 16,
   "metadata": {},
   "outputs": [
    {
     "name": "stderr",
     "output_type": "stream",
     "text": [
      "INFO:rnn:Saving current best: .\\best_model.pth ...\n",
      "epoch: 1/4 loss: 1.87: 100%|█| 137/137 [00:18<00:00,  7\n",
      "INFO:rnn:Epoch:0\tTrain 2.571\tValidation 2.053\n",
      "INFO:rnn:Saving checkpoint: .\\checkpoint-epoch-0.pth ...\n",
      "INFO:rnn:Saving current best: .\\best_model.pth ...\n",
      "epoch: 2/4 loss: 1.72: 100%|█| 137/137 [00:18<00:00,  7\n",
      "INFO:rnn:Epoch:1\tTrain 1.970\tValidation 1.860\n",
      "INFO:rnn:Saving checkpoint: .\\checkpoint-epoch-1.pth ...\n",
      "INFO:rnn:Saving current best: .\\best_model.pth ...\n",
      "epoch: 3/4 loss: 1.92: 100%|█| 137/137 [00:18<00:00,  7\n",
      "INFO:rnn:Epoch:2\tTrain 1.853\tValidation 1.810\n",
      "INFO:rnn:Saving checkpoint: .\\checkpoint-epoch-2.pth ...\n",
      "INFO:rnn:Saving current best: .\\best_model.pth ...\n",
      "epoch: 4/4 loss: 1.73: 100%|█| 137/137 [00:20<00:00,  6\n",
      "INFO:rnn:Epoch:3\tTrain 1.767\tValidation 1.718\n",
      "INFO:rnn:Saving checkpoint: .\\checkpoint-epoch-3.pth ...\n",
      "INFO:rnn:Saving current best: .\\best_model.pth ...\n",
      "INFO:rnn:Loading best model (epoch 3: 1.7183)\n"
     ]
    }
   ],
   "source": [
    "trainer.train()"
   ]
  },
  {
   "cell_type": "markdown",
   "metadata": {},
   "source": [
    "## Evaluation of the Model\n",
    "\n",
    "It is useful to have a look at the training curves. Since ANNs are prone to overfitting, comparing the behavior of the training loss and the validation loss can be very useful."
   ]
  },
  {
   "cell_type": "code",
   "execution_count": 17,
   "metadata": {
    "scrolled": true
   },
   "outputs": [
    {
     "data": {
      "image/png": "[encoded data removed]",
      "text/plain": [
       "<Figure size 432x288 with 1 Axes>"
      ]
     },
     "metadata": {
      "needs_background": "light"
     },
     "output_type": "display_data"
    }
   ],
   "source": [
    "train_loss_fn = os.path.join(\".\", \"train_loss.txt\")\n",
    "train_loss_curve = np.loadtxt(train_loss_fn)\n",
    "valid_loss_fn = os.path.join(\".\", \"valid_loss.txt\")\n",
    "valid_loss_curve = np.loadtxt(valid_loss_fn)\n",
    "plt.plot(train_loss_curve[:, 0], train_loss_curve[:, 1], label=\"Training loss\")\n",
    "plt.plot(valid_loss_curve[:, 0], valid_loss_curve[:, 1], label=\"Validation loss\")\n",
    "plt.xlabel(\"Epochs\")\n",
    "plt.ylabel(\"Cross Entropy\")\n",
    "plt.legend(frameon=False)\n",
    "plt.show()"
   ]
  },
  {
   "cell_type": "code",
   "execution_count": 18,
   "metadata": {},
   "outputs": [],
   "source": [
    "def eval_model(model, test_loader, loss=valid_loss):\n",
    "    test_ce = []\n",
    "    model.eval()\n",
    "    for i, (x, y) in enumerate(test_loader):\n",
    "        preds = model(x.to(model.dtype))\n",
    "        ce = loss(preds, y)\n",
    "        test_ce.append(ce.item())\n",
    "        \n",
    "    return np.mean(test_ce)"
   ]
  },
  {
   "cell_type": "markdown",
   "metadata": {},
   "source": [
    "To quickly get an average loss on the testset, you can call the eval_model function:"
   ]
  },
  {
   "cell_type": "code",
   "execution_count": 19,
   "metadata": {},
   "outputs": [
    {
     "data": {
      "text/plain": [
       "1.6903615562539351"
      ]
     },
     "execution_count": 19,
     "metadata": {},
     "output_type": "execute_result"
    }
   ],
   "source": [
    "# Cross entropy of the trained model on the test set\n",
    "eval_model(rnn, test_loader, loss=valid_loss)"
   ]
  },
  {
   "cell_type": "code",
   "execution_count": null,
   "metadata": {},
   "outputs": [],
   "source": []
  },
  {
   "cell_type": "markdown",
   "metadata": {},
   "source": [
    "# Generation!\n",
    "\n",
    "\n",
    "Now that you have the whole network and training at your fingertips, you can play around with it if you like. Maybe change the number of layers, the type of optimizer, they type of RNN, the learning rate, ...\n",
    "\n",
    "More importantly, we want to use this network for generation. How could we do this? The easiest way is probably to predict the following note from a seed melody, append this note to the melody and then repeat. However, it's not necessary that you pick the most likely note or input the full prior sequence \n",
    "\n",
    "## Tasks 3\n",
    "\n",
    "- Given the output of the network write a function that returns a note, i.e. a pitch and a duration (as pytorch tensor in one hot encoding)! Somewhere in this function needs to be a decision on how to pick a note from the output probabilities\n",
    "- Write a function that creates a random (or structured?) seed melody of 5-20 notes.\n",
    "- (if you generated the seed melody as pitch, duration tuples: write a function that creates a one hot encoded pytorch Tensor from the seed melody. You can use get_features(), OneHotEncoding and .from_numpy() to write this in few lines.)\n",
    "- Use the seed melody one hot encoding to generate a prediction.\n",
    "- Use the prediction to choose a new note. One hot encode it if necessary and append it to the seed melody.\n",
    "- Loop over the last to steps\n",
    "- Write a function that creates a list of notes as pitch and duration from the one hot encoded final sequence\n",
    "- Play your output melody using the synthesize function below!\n"
   ]
  },
  {
   "cell_type": "code",
   "execution_count": 20,
   "metadata": {},
   "outputs": [
    {
     "ename": "TypeError",
     "evalue": "object of type 'NoneType' has no len()",
     "output_type": "error",
     "traceback": [
      "\u001b[1;31m--------------------------------------------------------\u001b[0m",
      "\u001b[1;31mTypeError\u001b[0m              Traceback (most recent call last)",
      "\u001b[1;32m<ipython-input-20-24608419c84e>\u001b[0m in \u001b[0;36m<module>\u001b[1;34m\u001b[0m\n\u001b[0;32m      4\u001b[0m \u001b[1;33m\u001b[0m\u001b[0m\n\u001b[0;32m      5\u001b[0m audio = synthesize( pitch=None, onsets=None, duration=None, # input your values here!\n\u001b[1;32m----> 6\u001b[1;33m                     samplerate=SAMPLE_RATE)\n\u001b[0m\u001b[0;32m      7\u001b[0m \u001b[1;33m\u001b[0m\u001b[0m\n\u001b[0;32m      8\u001b[0m \u001b[0mipd\u001b[0m\u001b[1;33m.\u001b[0m\u001b[0mdisplay\u001b[0m\u001b[1;33m(\u001b[0m\u001b[0mipd\u001b[0m\u001b[1;33m.\u001b[0m\u001b[0mAudio\u001b[0m\u001b[1;33m(\u001b[0m\u001b[0mdata\u001b[0m\u001b[1;33m=\u001b[0m\u001b[0maudio\u001b[0m\u001b[1;33m,\u001b[0m \u001b[0mrate\u001b[0m\u001b[1;33m=\u001b[0m\u001b[0mSAMPLE_RATE\u001b[0m\u001b[1;33m)\u001b[0m\u001b[1;33m)\u001b[0m\u001b[1;33m\u001b[0m\u001b[1;33m\u001b[0m\u001b[0m\n",
      "\u001b[1;32m~\\Documents\\repos\\Musical_Informatics\\miws2021env\\generation_with_DL\\synthesize_score.py\u001b[0m in \u001b[0;36msynthesize\u001b[1;34m(pitch, onsets, duration, samplerate, envelope_fun, m2fq, harmonic_dist)\u001b[0m\n\u001b[0;32m    311\u001b[0m \u001b[1;33m\u001b[0m\u001b[0m\n\u001b[0;32m    312\u001b[0m     \u001b[1;32mif\u001b[0m \u001b[0monsets\u001b[0m \u001b[1;32mis\u001b[0m \u001b[1;32mNone\u001b[0m\u001b[1;33m:\u001b[0m\u001b[1;33m\u001b[0m\u001b[1;33m\u001b[0m\u001b[0m\n\u001b[1;32m--> 313\u001b[1;33m         \u001b[0monsets\u001b[0m \u001b[1;33m=\u001b[0m \u001b[0mnp\u001b[0m\u001b[1;33m.\u001b[0m\u001b[0marange\u001b[0m\u001b[1;33m(\u001b[0m\u001b[0mlen\u001b[0m\u001b[1;33m(\u001b[0m\u001b[0mpitch\u001b[0m\u001b[1;33m)\u001b[0m\u001b[1;33m)\u001b[0m\u001b[1;33m\u001b[0m\u001b[1;33m\u001b[0m\u001b[0m\n\u001b[0m\u001b[0;32m    314\u001b[0m     \u001b[1;32mif\u001b[0m \u001b[0mduration\u001b[0m \u001b[1;32mis\u001b[0m \u001b[1;32mNone\u001b[0m\u001b[1;33m:\u001b[0m\u001b[1;33m\u001b[0m\u001b[1;33m\u001b[0m\u001b[0m\n\u001b[0;32m    315\u001b[0m         \u001b[0mduration\u001b[0m \u001b[1;33m=\u001b[0m \u001b[0mnp\u001b[0m\u001b[1;33m.\u001b[0m\u001b[0mones_like\u001b[0m\u001b[1;33m(\u001b[0m\u001b[0mpitch\u001b[0m\u001b[1;33m)\u001b[0m\u001b[1;33m\u001b[0m\u001b[1;33m\u001b[0m\u001b[0m\n",
      "\u001b[1;31mTypeError\u001b[0m: object of type 'NoneType' has no len()"
     ]
    }
   ],
   "source": [
    "from synthesize_score import synthesize\n",
    "import IPython.display as ipd\n",
    "SAMPLE_RATE = 44100\n",
    "\n",
    "audio = synthesize( pitch=None, onsets=None, duration=None, # input your values here!\n",
    "                    samplerate=SAMPLE_RATE)\n",
    "\n",
    "ipd.display(ipd.Audio(data=audio, rate=SAMPLE_RATE))"
   ]
  },
  {
   "cell_type": "code",
   "execution_count": null,
   "metadata": {},
   "outputs": [],
   "source": []
  }
 ],
 "metadata": {
  "kernelspec": {
   "display_name": "Python 3",
   "language": "python",
   "name": "python3"
  },
  "language_info": {
   "codemirror_mode": {
    "name": "ipython",
    "version": 3
   },
   "file_extension": ".py",
   "mimetype": "text/x-python",
   "name": "python",
   "nbconvert_exporter": "python",
   "pygments_lexer": "ipython3",
   "version": "3.7.9"
  }
 },
 "nbformat": 4,
 "nbformat_minor": 5
}
